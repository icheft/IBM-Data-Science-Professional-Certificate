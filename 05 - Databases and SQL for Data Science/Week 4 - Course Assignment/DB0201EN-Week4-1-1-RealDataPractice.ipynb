{
 "cells": [
  {
   "cell_type": "markdown",
   "metadata": {},
   "source": [
    "<center>\n",
    "    <img src=\"https://s3-api.us-geo.objectstorage.softlayer.net/cf-courses-data/CognitiveClass/Logos/organization_logo/organization_logo.png\" width=\"300\" alt=\"cognitiveclass.ai logo\"  />\n",
    "</center>\n",
    "\n",
    "# Working with a real world data-set using SQL and Python\n",
    "\n",
    "Estimated time needed: **30** minutes\n",
    "\n",
    "## Objectives\n",
    "\n",
    "After completing this lab you will be able to:\n",
    "\n",
    "-   Understand the dataset for Chicago Public School level performance\n",
    "-   Store the dataset in an Db2 database on IBM Cloud instance\n",
    "-   Retrieve metadata about tables and columns and query data from mixed case columns\n",
    "-   Solve example problems to practice your SQL skills including using built-in database functions\n"
   ]
  },
  {
   "cell_type": "markdown",
   "metadata": {},
   "source": [
    "## Chicago Public Schools - Progress Report Cards (2011-2012)\n",
    "\n",
    "The city of Chicago released a dataset showing all school level performance data used to create School Report Cards for the 2011-2012 school year. The dataset is available from the Chicago Data Portal: [https://data.cityofchicago.org/Education/Chicago-Public-Schools-Progress-Report-Cards-2011-/9xs2-f89t](https://data.cityofchicago.org/Education/Chicago-Public-Schools-Progress-Report-Cards-2011-/9xs2-f89t?cm_mmc=Email_Newsletter-_-Developer_Ed%2BTech-_-WW_WW-_-SkillsNetwork-Courses-IBMDeveloperSkillsNetwork-DB0201EN-SkillsNetwork-20127838&cm_mmca1=000026UJ&cm_mmca2=10006555&cm_mmca3=M12345678&cvosrc=email.Newsletter.M12345678&cvo_campaign=000026UJ&cm_mmc=Email_Newsletter-_-Developer_Ed%2BTech-_-WW_WW-_-SkillsNetwork-Courses-IBMDeveloperSkillsNetwork-DB0201EN-SkillsNetwork-20127838&cm_mmca1=000026UJ&cm_mmca2=10006555&cm_mmca3=M12345678&cvosrc=email.Newsletter.M12345678&cvo_campaign=000026UJ)\n",
    "\n",
    "This dataset includes a large number of metrics. Start by familiarizing yourself with the types of metrics in the database: [https://data.cityofchicago.org/api/assets/AAD41A13-BE8A-4E67-B1F5-86E711E09D5F?download=true](https://data.cityofchicago.org/api/assets/AAD41A13-BE8A-4E67-B1F5-86E711E09D5F?download=true&cm_mmc=Email_Newsletter-_-Developer_Ed%2BTech-_-WW_WW-_-SkillsNetwork-Courses-IBMDeveloperSkillsNetwork-DB0201EN-SkillsNetwork-20127838&cm_mmca1=000026UJ&cm_mmca2=10006555&cm_mmca3=M12345678&cvosrc=email.Newsletter.M12345678&cvo_campaign=000026UJ)\n",
    "\n",
    "**NOTE**: \n",
    "\n",
    "Do not download the dataset directly from City of Chicago portal. Instead download a static copy which is a more database friendly version from this <a href=\"https://cf-courses-data.s3.us.cloud-object-storage.appdomain.cloud/IBMDeveloperSkillsNetwork-DB0201EN-SkillsNetwork/labs/FinalModule_edX/data/Chicago_Public_Schools_-_Progress_Report_Cards__2011-2012-v3.csv\">link</a>.\n",
    "\n",
    "Now review some of its contents.\n"
   ]
  },
  {
   "cell_type": "markdown",
   "metadata": {},
   "source": [
    "### Store the dataset in a Table\n",
    "\n",
    "In many cases the dataset to be analyzed is available as a .CSV (comma separated values) file, perhaps on the internet. To analyze the data using SQL, it first needs to be stored in the database.\n",
    "\n",
    "While it is easier to read the dataset into a Pandas dataframe and then PERSIST it into the database as we saw in the previous lab, it results in mapping to default datatypes which may not be optimal for SQL querying. For example a long textual field may map to a CLOB instead of a VARCHAR. \n",
    "\n",
    "Therefore, **it is highly recommended to manually load the table using the database console LOAD tool, as indicated in Week 2 Lab 1 Part II**. The only difference with that lab is that in Step 5 of the instructions you will need to click on create \"(+) New Table\" and specify the name of the table you want to create and then click \"Next\". \n",
    "\n",
    "##### Now open the Db2 console, open the LOAD tool, Select / Drag the .CSV file for the CHICAGO PUBLIC SCHOOLS dataset and load the dataset into a new table called **SCHOOLS**.\n",
    "\n",
    "<a href=\"https://cognitiveclass.ai\"><img src = \"https://ibm.box.com/shared/static/uc4xjh1uxcc78ks1i18v668simioz4es.jpg\"></a>\n"
   ]
  },
  {
   "cell_type": "markdown",
   "metadata": {},
   "source": [
    "### Connect to the database\n",
    "\n",
    "Let us now load the ipython-sql  extension and establish a connection with the database\n"
   ]
  },
  {
   "cell_type": "code",
   "execution_count": 1,
   "metadata": {},
   "outputs": [],
   "source": [
    "%load_ext sql"
   ]
  },
  {
   "cell_type": "code",
   "execution_count": 2,
   "metadata": {},
   "outputs": [
    {
     "name": "stdout",
     "output_type": "stream",
     "text": [
      "DB2/LINUXX8664\n"
     ]
    },
    {
     "data": {
      "text/plain": [
       "'Connected: lsg70000@BLUDB'"
      ]
     },
     "execution_count": 2,
     "metadata": {},
     "output_type": "execute_result"
    }
   ],
   "source": [
    "# Enter the connection string for your Db2 on Cloud database instance below\n",
    "# %sql ibm_db_sa://my-username:my-password@my-hostname:my-port/my-db-name\n",
    "\n",
    "user = 'lsg70000'\n",
    "password = '6hhxjtlt%2Blnzsc1w'\n",
    "\n",
    "connection_string = \"ibm_db_sa://{user}:{password}@dashdb-txn-sbox-yp-lon02-04.services.eu-gb.bluemix.net:50000/BLUDB\".format(user=user, password=password)\n",
    "# print(connection_string)\n",
    "\n",
    "%sql $connection_string"
   ]
  },
  {
   "cell_type": "markdown",
   "metadata": {},
   "source": [
    "### Query the database system catalog to retrieve table metadata\n",
    "\n",
    "##### You can verify that the table creation was successful by retrieving the list of all tables in your schema and checking whether the SCHOOLS table was created\n"
   ]
  },
  {
   "cell_type": "code",
   "execution_count": 3,
   "metadata": {},
   "outputs": [
    {
     "name": "stdout",
     "output_type": "stream",
     "text": [
      " * ibm_db_sa://lsg70000:***@dashdb-txn-sbox-yp-lon02-04.services.eu-gb.bluemix.net:50000/BLUDB\n",
      "Done.\n"
     ]
    },
    {
     "data": {
      "text/html": [
       "<table>\n",
       "    <thead>\n",
       "        <tr>\n",
       "            <th>tabschema</th>\n",
       "            <th>tabname</th>\n",
       "            <th>owner</th>\n",
       "            <th>ownertype</th>\n",
       "            <th>TYPE</th>\n",
       "            <th>status</th>\n",
       "            <th>base_tabschema</th>\n",
       "            <th>base_tabname</th>\n",
       "            <th>rowtypeschema</th>\n",
       "            <th>rowtypename</th>\n",
       "            <th>create_time</th>\n",
       "            <th>alter_time</th>\n",
       "            <th>invalidate_time</th>\n",
       "            <th>stats_time</th>\n",
       "            <th>colcount</th>\n",
       "            <th>tableid</th>\n",
       "            <th>tbspaceid</th>\n",
       "            <th>card</th>\n",
       "            <th>npages</th>\n",
       "            <th>mpages</th>\n",
       "            <th>fpages</th>\n",
       "            <th>npartitions</th>\n",
       "            <th>nfiles</th>\n",
       "            <th>tablesize</th>\n",
       "            <th>overflow</th>\n",
       "            <th>tbspace</th>\n",
       "            <th>index_tbspace</th>\n",
       "            <th>long_tbspace</th>\n",
       "            <th>parents</th>\n",
       "            <th>children</th>\n",
       "            <th>selfrefs</th>\n",
       "            <th>keycolumns</th>\n",
       "            <th>keyindexid</th>\n",
       "            <th>keyunique</th>\n",
       "            <th>checkcount</th>\n",
       "            <th>datacapture</th>\n",
       "            <th>const_checked</th>\n",
       "            <th>pmap_id</th>\n",
       "            <th>partition_mode</th>\n",
       "            <th>log_attribute</th>\n",
       "            <th>pctfree</th>\n",
       "            <th>append_mode</th>\n",
       "            <th>REFRESH</th>\n",
       "            <th>refresh_time</th>\n",
       "            <th>LOCKSIZE</th>\n",
       "            <th>VOLATILE</th>\n",
       "            <th>row_format</th>\n",
       "            <th>property</th>\n",
       "            <th>statistics_profile</th>\n",
       "            <th>compression</th>\n",
       "            <th>rowcompmode</th>\n",
       "            <th>access_mode</th>\n",
       "            <th>clustered</th>\n",
       "            <th>active_blocks</th>\n",
       "            <th>droprule</th>\n",
       "            <th>maxfreespacesearch</th>\n",
       "            <th>avgcompressedrowsize</th>\n",
       "            <th>avgrowcompressionratio</th>\n",
       "            <th>avgrowsize</th>\n",
       "            <th>pctrowscompressed</th>\n",
       "            <th>logindexbuild</th>\n",
       "            <th>codepage</th>\n",
       "            <th>collationschema</th>\n",
       "            <th>collationname</th>\n",
       "            <th>collationschema_orderby</th>\n",
       "            <th>collationname_orderby</th>\n",
       "            <th>encoding_scheme</th>\n",
       "            <th>pctpagessaved</th>\n",
       "            <th>last_regen_time</th>\n",
       "            <th>secpolicyid</th>\n",
       "            <th>protectiongranularity</th>\n",
       "            <th>auditpolicyid</th>\n",
       "            <th>auditpolicyname</th>\n",
       "            <th>auditexceptionenabled</th>\n",
       "            <th>definer</th>\n",
       "            <th>oncommit</th>\n",
       "            <th>logged</th>\n",
       "            <th>onrollback</th>\n",
       "            <th>lastused</th>\n",
       "            <th>control</th>\n",
       "            <th>temporaltype</th>\n",
       "            <th>tableorg</th>\n",
       "            <th>extended_row_size</th>\n",
       "            <th>pctextendedrows</th>\n",
       "            <th>remarks</th>\n",
       "        </tr>\n",
       "    </thead>\n",
       "    <tbody>\n",
       "        <tr>\n",
       "            <td>SYSIBM  </td>\n",
       "            <td>SYSTABLES</td>\n",
       "            <td>SYSIBM  </td>\n",
       "            <td>S</td>\n",
       "            <td>T</td>\n",
       "            <td>N</td>\n",
       "            <td>None</td>\n",
       "            <td>None</td>\n",
       "            <td>None</td>\n",
       "            <td>None</td>\n",
       "            <td>2020-04-11 08:35:27.352722</td>\n",
       "            <td>2020-04-11 08:35:27.352722</td>\n",
       "            <td>2020-04-11 08:55:43.639555</td>\n",
       "            <td>2021-02-01 12:57:54.496367</td>\n",
       "            <td>83</td>\n",
       "            <td>5</td>\n",
       "            <td>0</td>\n",
       "            <td>9495</td>\n",
       "            <td>311</td>\n",
       "            <td>0</td>\n",
       "            <td>570</td>\n",
       "            <td>-1</td>\n",
       "            <td>-1</td>\n",
       "            <td>-1</td>\n",
       "            <td>45</td>\n",
       "            <td>SYSCATSPACE</td>\n",
       "            <td>None</td>\n",
       "            <td>None</td>\n",
       "            <td>0</td>\n",
       "            <td>0</td>\n",
       "            <td>0</td>\n",
       "            <td>0</td>\n",
       "            <td>0</td>\n",
       "            <td>0</td>\n",
       "            <td>0</td>\n",
       "            <td>N</td>\n",
       "            <td>YYYYYYYYYYYYYYYYYYYYYYYYYYYYYYYY</td>\n",
       "            <td>0</td>\n",
       "            <td> </td>\n",
       "            <td>0</td>\n",
       "            <td>-1</td>\n",
       "            <td>N</td>\n",
       "            <td> </td>\n",
       "            <td>None</td>\n",
       "            <td>R</td>\n",
       "            <td> </td>\n",
       "            <td>N</td>\n",
       "            <td>&nbsp;&nbsp;&nbsp;&nbsp;&nbsp;&nbsp;&nbsp;&nbsp;&nbsp;&nbsp;&nbsp;&nbsp;&nbsp;&nbsp;&nbsp;&nbsp;&nbsp;&nbsp;&nbsp;&nbsp;&nbsp;&nbsp;&nbsp;&nbsp;&nbsp;&nbsp;&nbsp;&nbsp;&nbsp;&nbsp;&nbsp;&nbsp;</td>\n",
       "            <td>None</td>\n",
       "            <td>N</td>\n",
       "            <td> </td>\n",
       "            <td>F</td>\n",
       "            <td>None</td>\n",
       "            <td>0</td>\n",
       "            <td>\u0000</td>\n",
       "            <td>999</td>\n",
       "            <td>0</td>\n",
       "            <td>0.0</td>\n",
       "            <td>511</td>\n",
       "            <td>0.0</td>\n",
       "            <td>None</td>\n",
       "            <td>1208</td>\n",
       "            <td>SYSIBM</td>\n",
       "            <td>IDENTITY</td>\n",
       "            <td>SYSIBM</td>\n",
       "            <td>IDENTITY</td>\n",
       "            <td> </td>\n",
       "            <td>0</td>\n",
       "            <td>2020-04-11 08:35:27.352722</td>\n",
       "            <td>0</td>\n",
       "            <td> </td>\n",
       "            <td>None</td>\n",
       "            <td>None</td>\n",
       "            <td>N</td>\n",
       "            <td>SYSIBM  </td>\n",
       "            <td> </td>\n",
       "            <td> </td>\n",
       "            <td> </td>\n",
       "            <td>2021-02-01</td>\n",
       "            <td>R</td>\n",
       "            <td>N</td>\n",
       "            <td>R</td>\n",
       "            <td>N</td>\n",
       "            <td>-1.0</td>\n",
       "            <td>None</td>\n",
       "        </tr>\n",
       "        <tr>\n",
       "            <td>SYSIBM  </td>\n",
       "            <td>SYSCOLUMNS</td>\n",
       "            <td>SYSIBM  </td>\n",
       "            <td>S</td>\n",
       "            <td>T</td>\n",
       "            <td>N</td>\n",
       "            <td>None</td>\n",
       "            <td>None</td>\n",
       "            <td>None</td>\n",
       "            <td>None</td>\n",
       "            <td>2020-04-11 08:35:27.352722</td>\n",
       "            <td>2020-04-11 08:35:27.352722</td>\n",
       "            <td>2020-04-11 08:55:38.964036</td>\n",
       "            <td>2021-02-01 13:53:09.660674</td>\n",
       "            <td>45</td>\n",
       "            <td>6</td>\n",
       "            <td>0</td>\n",
       "            <td>141602</td>\n",
       "            <td>1703</td>\n",
       "            <td>0</td>\n",
       "            <td>4552</td>\n",
       "            <td>-1</td>\n",
       "            <td>-1</td>\n",
       "            <td>-1</td>\n",
       "            <td>603</td>\n",
       "            <td>SYSCATSPACE</td>\n",
       "            <td>None</td>\n",
       "            <td>None</td>\n",
       "            <td>0</td>\n",
       "            <td>0</td>\n",
       "            <td>0</td>\n",
       "            <td>0</td>\n",
       "            <td>0</td>\n",
       "            <td>0</td>\n",
       "            <td>0</td>\n",
       "            <td>N</td>\n",
       "            <td>YYYYYYYYYYYYYYYYYYYYYYYYYYYYYYYY</td>\n",
       "            <td>0</td>\n",
       "            <td> </td>\n",
       "            <td>0</td>\n",
       "            <td>-1</td>\n",
       "            <td>N</td>\n",
       "            <td> </td>\n",
       "            <td>None</td>\n",
       "            <td>R</td>\n",
       "            <td> </td>\n",
       "            <td>N</td>\n",
       "            <td>&nbsp;&nbsp;&nbsp;&nbsp;&nbsp;&nbsp;&nbsp;&nbsp;&nbsp;&nbsp;&nbsp;&nbsp;&nbsp;&nbsp;&nbsp;&nbsp;&nbsp;&nbsp;&nbsp;&nbsp;&nbsp;&nbsp;&nbsp;&nbsp;&nbsp;&nbsp;&nbsp;&nbsp;&nbsp;&nbsp;&nbsp;&nbsp;</td>\n",
       "            <td>None</td>\n",
       "            <td>N</td>\n",
       "            <td> </td>\n",
       "            <td>F</td>\n",
       "            <td>None</td>\n",
       "            <td>0</td>\n",
       "            <td>\u0000</td>\n",
       "            <td>999</td>\n",
       "            <td>0</td>\n",
       "            <td>0.0</td>\n",
       "            <td>247</td>\n",
       "            <td>0.0</td>\n",
       "            <td>None</td>\n",
       "            <td>1208</td>\n",
       "            <td>SYSIBM</td>\n",
       "            <td>IDENTITY</td>\n",
       "            <td>SYSIBM</td>\n",
       "            <td>IDENTITY</td>\n",
       "            <td> </td>\n",
       "            <td>0</td>\n",
       "            <td>2020-04-11 08:35:27.352722</td>\n",
       "            <td>0</td>\n",
       "            <td> </td>\n",
       "            <td>None</td>\n",
       "            <td>None</td>\n",
       "            <td>N</td>\n",
       "            <td>SYSIBM  </td>\n",
       "            <td> </td>\n",
       "            <td> </td>\n",
       "            <td> </td>\n",
       "            <td>2021-02-01</td>\n",
       "            <td>R</td>\n",
       "            <td>N</td>\n",
       "            <td>R</td>\n",
       "            <td>N</td>\n",
       "            <td>-1.0</td>\n",
       "            <td>None</td>\n",
       "        </tr>\n",
       "        <tr>\n",
       "            <td>SYSIBM  </td>\n",
       "            <td>SYSINDEXES</td>\n",
       "            <td>SYSIBM  </td>\n",
       "            <td>S</td>\n",
       "            <td>T</td>\n",
       "            <td>N</td>\n",
       "            <td>None</td>\n",
       "            <td>None</td>\n",
       "            <td>None</td>\n",
       "            <td>None</td>\n",
       "            <td>2020-04-11 08:35:27.352722</td>\n",
       "            <td>2020-04-11 08:35:27.352722</td>\n",
       "            <td>2020-04-11 08:55:41.190993</td>\n",
       "            <td>2021-02-01 18:47:55.221276</td>\n",
       "            <td>71</td>\n",
       "            <td>7</td>\n",
       "            <td>0</td>\n",
       "            <td>6680</td>\n",
       "            <td>184</td>\n",
       "            <td>0</td>\n",
       "            <td>299</td>\n",
       "            <td>-1</td>\n",
       "            <td>-1</td>\n",
       "            <td>-1</td>\n",
       "            <td>21</td>\n",
       "            <td>SYSCATSPACE</td>\n",
       "            <td>None</td>\n",
       "            <td>None</td>\n",
       "            <td>0</td>\n",
       "            <td>0</td>\n",
       "            <td>0</td>\n",
       "            <td>0</td>\n",
       "            <td>0</td>\n",
       "            <td>0</td>\n",
       "            <td>0</td>\n",
       "            <td>N</td>\n",
       "            <td>YYYYYYYYYYYYYYYYYYYYYYYYYYYYYYYY</td>\n",
       "            <td>0</td>\n",
       "            <td> </td>\n",
       "            <td>0</td>\n",
       "            <td>-1</td>\n",
       "            <td>N</td>\n",
       "            <td> </td>\n",
       "            <td>None</td>\n",
       "            <td>R</td>\n",
       "            <td> </td>\n",
       "            <td>N</td>\n",
       "            <td>&nbsp;&nbsp;&nbsp;&nbsp;&nbsp;&nbsp;&nbsp;&nbsp;&nbsp;&nbsp;&nbsp;&nbsp;&nbsp;&nbsp;&nbsp;&nbsp;&nbsp;&nbsp;&nbsp;&nbsp;&nbsp;&nbsp;&nbsp;&nbsp;&nbsp;&nbsp;&nbsp;&nbsp;&nbsp;&nbsp;&nbsp;&nbsp;</td>\n",
       "            <td>None</td>\n",
       "            <td>N</td>\n",
       "            <td> </td>\n",
       "            <td>F</td>\n",
       "            <td>None</td>\n",
       "            <td>0</td>\n",
       "            <td>\u0000</td>\n",
       "            <td>999</td>\n",
       "            <td>0</td>\n",
       "            <td>0.0</td>\n",
       "            <td>404</td>\n",
       "            <td>0.0</td>\n",
       "            <td>None</td>\n",
       "            <td>1208</td>\n",
       "            <td>SYSIBM</td>\n",
       "            <td>IDENTITY</td>\n",
       "            <td>SYSIBM</td>\n",
       "            <td>IDENTITY</td>\n",
       "            <td> </td>\n",
       "            <td>0</td>\n",
       "            <td>2020-04-11 08:35:27.352722</td>\n",
       "            <td>0</td>\n",
       "            <td> </td>\n",
       "            <td>None</td>\n",
       "            <td>None</td>\n",
       "            <td>N</td>\n",
       "            <td>SYSIBM  </td>\n",
       "            <td> </td>\n",
       "            <td> </td>\n",
       "            <td> </td>\n",
       "            <td>2021-02-01</td>\n",
       "            <td>R</td>\n",
       "            <td>N</td>\n",
       "            <td>R</td>\n",
       "            <td>N</td>\n",
       "            <td>-1.0</td>\n",
       "            <td>None</td>\n",
       "        </tr>\n",
       "    </tbody>\n",
       "</table>"
      ],
      "text/plain": [
       "[('SYSIBM  ', 'SYSTABLES', 'SYSIBM  ', 'S', 'T', 'N', None, None, None, None, datetime.datetime(2020, 4, 11, 8, 35, 27, 352722), datetime.datetime(2020, 4, 11, 8, 35, 27, 352722), datetime.datetime(2020, 4, 11, 8, 55, 43, 639555), datetime.datetime(2021, 2, 1, 12, 57, 54, 496367), 83, 5, 0, 9495, 311, 0, 570, -1, -1, -1, 45, 'SYSCATSPACE', None, None, 0, 0, 0, 0, 0, 0, 0, 'N', 'YYYYYYYYYYYYYYYYYYYYYYYYYYYYYYYY', 0, ' ', '0', -1, 'N', ' ', None, 'R', ' ', 'N', '                                ', None, 'N', ' ', 'F', None, 0, '\\x00', 999, 0, 0.0, 511, 0.0, None, 1208, 'SYSIBM', 'IDENTITY', 'SYSIBM', 'IDENTITY', ' ', 0, datetime.datetime(2020, 4, 11, 8, 35, 27, 352722), 0, ' ', None, None, 'N', 'SYSIBM  ', ' ', ' ', ' ', datetime.date(2021, 2, 1), 'R', 'N', 'R', 'N', -1.0, None),\n",
       " ('SYSIBM  ', 'SYSCOLUMNS', 'SYSIBM  ', 'S', 'T', 'N', None, None, None, None, datetime.datetime(2020, 4, 11, 8, 35, 27, 352722), datetime.datetime(2020, 4, 11, 8, 35, 27, 352722), datetime.datetime(2020, 4, 11, 8, 55, 38, 964036), datetime.datetime(2021, 2, 1, 13, 53, 9, 660674), 45, 6, 0, 141602, 1703, 0, 4552, -1, -1, -1, 603, 'SYSCATSPACE', None, None, 0, 0, 0, 0, 0, 0, 0, 'N', 'YYYYYYYYYYYYYYYYYYYYYYYYYYYYYYYY', 0, ' ', '0', -1, 'N', ' ', None, 'R', ' ', 'N', '                                ', None, 'N', ' ', 'F', None, 0, '\\x00', 999, 0, 0.0, 247, 0.0, None, 1208, 'SYSIBM', 'IDENTITY', 'SYSIBM', 'IDENTITY', ' ', 0, datetime.datetime(2020, 4, 11, 8, 35, 27, 352722), 0, ' ', None, None, 'N', 'SYSIBM  ', ' ', ' ', ' ', datetime.date(2021, 2, 1), 'R', 'N', 'R', 'N', -1.0, None),\n",
       " ('SYSIBM  ', 'SYSINDEXES', 'SYSIBM  ', 'S', 'T', 'N', None, None, None, None, datetime.datetime(2020, 4, 11, 8, 35, 27, 352722), datetime.datetime(2020, 4, 11, 8, 35, 27, 352722), datetime.datetime(2020, 4, 11, 8, 55, 41, 190993), datetime.datetime(2021, 2, 1, 18, 47, 55, 221276), 71, 7, 0, 6680, 184, 0, 299, -1, -1, -1, 21, 'SYSCATSPACE', None, None, 0, 0, 0, 0, 0, 0, 0, 'N', 'YYYYYYYYYYYYYYYYYYYYYYYYYYYYYYYY', 0, ' ', '0', -1, 'N', ' ', None, 'R', ' ', 'N', '                                ', None, 'N', ' ', 'F', None, 0, '\\x00', 999, 0, 0.0, 404, 0.0, None, 1208, 'SYSIBM', 'IDENTITY', 'SYSIBM', 'IDENTITY', ' ', 0, datetime.datetime(2020, 4, 11, 8, 35, 27, 352722), 0, ' ', None, None, 'N', 'SYSIBM  ', ' ', ' ', ' ', datetime.date(2021, 2, 1), 'R', 'N', 'R', 'N', -1.0, None)]"
      ]
     },
     "execution_count": 3,
     "metadata": {},
     "output_type": "execute_result"
    }
   ],
   "source": [
    "# type in your query to retrieve list of all tables in the database for your db2 schema (username)\n",
    "# %sql select TABSCHEMA, TABNAME, CREATE_TIME from syscat.tables where TABSCHEMA = 'lsg70000'\n",
    "\n",
    "%sql select * from syscat.tables LIMIT 3"
   ]
  },
  {
   "cell_type": "code",
   "execution_count": 4,
   "metadata": {},
   "outputs": [
    {
     "name": "stdout",
     "output_type": "stream",
     "text": [
      " * ibm_db_sa://lsg70000:***@dashdb-txn-sbox-yp-lon02-04.services.eu-gb.bluemix.net:50000/BLUDB\n",
      "Done.\n"
     ]
    },
    {
     "data": {
      "text/html": [
       "<table>\n",
       "    <thead>\n",
       "        <tr>\n",
       "            <th>tabschema</th>\n",
       "            <th>tabname</th>\n",
       "            <th>create_time</th>\n",
       "        </tr>\n",
       "    </thead>\n",
       "    <tbody>\n",
       "        <tr>\n",
       "            <td>LSG70000</td>\n",
       "            <td>EMPLOYEES</td>\n",
       "            <td>2021-01-30 14:21:10.355237</td>\n",
       "        </tr>\n",
       "        <tr>\n",
       "            <td>LSG70000</td>\n",
       "            <td>JOB_HISTORY</td>\n",
       "            <td>2021-01-30 14:21:10.480211</td>\n",
       "        </tr>\n",
       "        <tr>\n",
       "            <td>LSG70000</td>\n",
       "            <td>JOBS</td>\n",
       "            <td>2021-01-30 14:21:10.600367</td>\n",
       "        </tr>\n",
       "        <tr>\n",
       "            <td>LSG70000</td>\n",
       "            <td>DEPARTMENTS</td>\n",
       "            <td>2021-01-30 14:21:10.719964</td>\n",
       "        </tr>\n",
       "        <tr>\n",
       "            <td>LSG70000</td>\n",
       "            <td>LOCATIONS</td>\n",
       "            <td>2021-01-30 14:21:10.837461</td>\n",
       "        </tr>\n",
       "        <tr>\n",
       "            <td>LSG70000</td>\n",
       "            <td>PETRESCUE</td>\n",
       "            <td>2021-01-31 03:14:03.312857</td>\n",
       "        </tr>\n",
       "        <tr>\n",
       "            <td>LSG70000</td>\n",
       "            <td>INSTRUCTOR</td>\n",
       "            <td>2021-02-01 03:53:12.293671</td>\n",
       "        </tr>\n",
       "        <tr>\n",
       "            <td>LSG70000</td>\n",
       "            <td>INTERNATIONAL_STUDENT_TEST_SCORES</td>\n",
       "            <td>2021-02-01 06:10:52.500494</td>\n",
       "        </tr>\n",
       "        <tr>\n",
       "            <td>LSG70000</td>\n",
       "            <td>CHICAGO_SOCIOECONOMIC_DATA</td>\n",
       "            <td>2021-02-01 06:26:26.000786</td>\n",
       "        </tr>\n",
       "        <tr>\n",
       "            <td>LSG70000</td>\n",
       "            <td>SCHOOLS</td>\n",
       "            <td>2021-02-02 03:22:42.699587</td>\n",
       "        </tr>\n",
       "    </tbody>\n",
       "</table>"
      ],
      "text/plain": [
       "[('LSG70000', 'EMPLOYEES', datetime.datetime(2021, 1, 30, 14, 21, 10, 355237)),\n",
       " ('LSG70000', 'JOB_HISTORY', datetime.datetime(2021, 1, 30, 14, 21, 10, 480211)),\n",
       " ('LSG70000', 'JOBS', datetime.datetime(2021, 1, 30, 14, 21, 10, 600367)),\n",
       " ('LSG70000', 'DEPARTMENTS', datetime.datetime(2021, 1, 30, 14, 21, 10, 719964)),\n",
       " ('LSG70000', 'LOCATIONS', datetime.datetime(2021, 1, 30, 14, 21, 10, 837461)),\n",
       " ('LSG70000', 'PETRESCUE', datetime.datetime(2021, 1, 31, 3, 14, 3, 312857)),\n",
       " ('LSG70000', 'INSTRUCTOR', datetime.datetime(2021, 2, 1, 3, 53, 12, 293671)),\n",
       " ('LSG70000', 'INTERNATIONAL_STUDENT_TEST_SCORES', datetime.datetime(2021, 2, 1, 6, 10, 52, 500494)),\n",
       " ('LSG70000', 'CHICAGO_SOCIOECONOMIC_DATA', datetime.datetime(2021, 2, 1, 6, 26, 26, 786)),\n",
       " ('LSG70000', 'SCHOOLS', datetime.datetime(2021, 2, 2, 3, 22, 42, 699587))]"
      ]
     },
     "execution_count": 4,
     "metadata": {},
     "output_type": "execute_result"
    }
   ],
   "source": [
    "%sql select TABSCHEMA, TABNAME, CREATE_TIME from SYSCAT.TABLES where TABSCHEMA='LSG70000'"
   ]
  },
  {
   "cell_type": "markdown",
   "metadata": {},
   "source": [
    "<details><summary>Click here for the solution</summary>\n",
    "\n",
    "```python\n",
    "#In Db2 the system catalog table called SYSCAT.TABLES contains the table metadata\n",
    "\n",
    "%sql select TABSCHEMA, TABNAME, CREATE_TIME from SYSCAT.TABLES where TABSCHEMA='YOUR-DB2-USERNAME'\n",
    "\n",
    "or, you can retrieve list of all tables where the schema name is not one of the system created ones:\n",
    "\n",
    "%sql select TABSCHEMA, TABNAME, CREATE_TIME from SYSCAT.TABLES \\\n",
    "      where TABSCHEMA not in ('SYSIBM', 'SYSCAT', 'SYSSTAT', 'SYSIBMADM', 'SYSTOOLS', 'SYSPUBLIC')\n",
    "      \n",
    "or, just query for a specifc table that you want to verify exists in the database\n",
    "%sql select * from SYSCAT.TABLES where TABNAME = 'SCHOOLS'\n",
    "```\n",
    "\n",
    "</details>\n"
   ]
  },
  {
   "cell_type": "markdown",
   "metadata": {},
   "source": [
    "### Query the database system catalog to retrieve column metadata\n",
    "\n",
    "##### The SCHOOLS table contains a large number of columns. How many columns does this table have?\n"
   ]
  },
  {
   "cell_type": "code",
   "execution_count": 5,
   "metadata": {},
   "outputs": [
    {
     "name": "stdout",
     "output_type": "stream",
     "text": [
      " * ibm_db_sa://lsg70000:***@dashdb-txn-sbox-yp-lon02-04.services.eu-gb.bluemix.net:50000/BLUDB\n",
      "Done.\n"
     ]
    },
    {
     "data": {
      "text/html": [
       "<table>\n",
       "    <thead>\n",
       "        <tr>\n",
       "            <th>1</th>\n",
       "        </tr>\n",
       "    </thead>\n",
       "    <tbody>\n",
       "        <tr>\n",
       "            <td>566</td>\n",
       "        </tr>\n",
       "    </tbody>\n",
       "</table>"
      ],
      "text/plain": [
       "[(Decimal('566'),)]"
      ]
     },
     "execution_count": 5,
     "metadata": {},
     "output_type": "execute_result"
    }
   ],
   "source": [
    "# type in your query to retrieve the number of columns in the SCHOOLS table\n",
    "%sql select count(*) from SCHOOLS"
   ]
  },
  {
   "cell_type": "markdown",
   "metadata": {},
   "source": [
    "<details><summary>Click here for the solution</summary>\n",
    "\n",
    "```python\n",
    "#In Db2 the system catalog table called SYSCAT.COLUMNS contains the column metadata\n",
    "\n",
    "%sql select count(*) from SYSCAT.COLUMNS where TABNAME = 'SCHOOLS'\n",
    "\n",
    "```\n",
    "\n",
    "</details>\n"
   ]
  },
  {
   "cell_type": "markdown",
   "metadata": {},
   "source": [
    "Now retrieve the the list of columns in SCHOOLS table and their column type (datatype) and length.\n"
   ]
  },
  {
   "cell_type": "code",
   "execution_count": 6,
   "metadata": {},
   "outputs": [
    {
     "name": "stdout",
     "output_type": "stream",
     "text": [
      " * ibm_db_sa://lsg70000:***@dashdb-txn-sbox-yp-lon02-04.services.eu-gb.bluemix.net:50000/BLUDB\n",
      "Done.\n"
     ]
    },
    {
     "data": {
      "text/html": [
       "<div>\n",
       "<style scoped>\n",
       "    .dataframe tbody tr th:only-of-type {\n",
       "        vertical-align: middle;\n",
       "    }\n",
       "\n",
       "    .dataframe tbody tr th {\n",
       "        vertical-align: top;\n",
       "    }\n",
       "\n",
       "    .dataframe thead th {\n",
       "        text-align: right;\n",
       "    }\n",
       "</style>\n",
       "<table border=\"1\" class=\"dataframe\">\n",
       "  <thead>\n",
       "    <tr style=\"text-align: right;\">\n",
       "      <th></th>\n",
       "      <th>name</th>\n",
       "      <th>coltype</th>\n",
       "      <th>length</th>\n",
       "    </tr>\n",
       "  </thead>\n",
       "  <tbody>\n",
       "    <tr>\n",
       "      <th>64</th>\n",
       "      <td>SAFETY_SCORE</td>\n",
       "      <td>SMALLINT</td>\n",
       "      <td>2</td>\n",
       "    </tr>\n",
       "    <tr>\n",
       "      <th>65</th>\n",
       "      <td>Safety_Icon</td>\n",
       "      <td>VARCHAR</td>\n",
       "      <td>11</td>\n",
       "    </tr>\n",
       "  </tbody>\n",
       "</table>\n",
       "</div>"
      ],
      "text/plain": [
       "            name   coltype  length\n",
       "64  SAFETY_SCORE  SMALLINT       2\n",
       "65   Safety_Icon  VARCHAR       11"
      ]
     },
     "execution_count": 6,
     "metadata": {},
     "output_type": "execute_result"
    }
   ],
   "source": [
    "# type in your query to retrieve all column names in the SCHOOLS table along with their datatypes and length\n",
    "import pandas as pd\n",
    "\n",
    "df = %sql select distinct(name), coltype, length from sysibm.syscolumns where TBNAME = 'SCHOOLS' AND COLTYPE NOT IN ('BLOT')\n",
    "df = df.DataFrame()\n",
    "df[df['name'].str.lower().str.contains('safety')]"
   ]
  },
  {
   "cell_type": "markdown",
   "metadata": {},
   "source": [
    "<details><summary>Click here for the solution</summary>\n",
    "\n",
    "```python\n",
    "%sql select COLNAME, TYPENAME, LENGTH from SYSCAT.COLUMNS where TABNAME = 'SCHOOLS'\n",
    "\n",
    "or\n",
    "\n",
    "%sql select distinct(NAME), COLTYPE, LENGTH from SYSIBM.SYSCOLUMNS where TBNAME = 'SCHOOLS'\n",
    "\n",
    "```\n",
    "\n",
    "</details>\n"
   ]
  },
  {
   "cell_type": "markdown",
   "metadata": {},
   "source": [
    "### Questions\n",
    "\n",
    "1.  Is the column name for the \"SCHOOL ID\" attribute in upper or mixed case?\n",
    "2.  What is the name of \"Community Area Name\" column in your table? Does it have spaces?\n",
    "3.  Are there any columns in whose names the spaces and paranthesis (round brackets) have been replaced by the underscore character \"_\"?\n"
   ]
  },
  {
   "cell_type": "markdown",
   "metadata": {},
   "source": [
    "#### Answer\n",
    "1. `School_ID`. Mixed.\n",
    "2. `COMMUNITY_AREA_NAME`. No spaces in between.\n",
    "3. Yes. Like this one `Students_Passing__Algebra__`."
   ]
  },
  {
   "cell_type": "markdown",
   "metadata": {},
   "source": [
    "## Problems\n",
    "\n",
    "### Problem 1\n",
    "\n",
    "##### How many Elementary Schools are in the dataset?\n"
   ]
  },
  {
   "cell_type": "code",
   "execution_count": 7,
   "metadata": {},
   "outputs": [
    {
     "name": "stdout",
     "output_type": "stream",
     "text": [
      " * ibm_db_sa://lsg70000:***@dashdb-txn-sbox-yp-lon02-04.services.eu-gb.bluemix.net:50000/BLUDB\n",
      "Done.\n"
     ]
    },
    {
     "data": {
      "text/html": [
       "<table>\n",
       "    <thead>\n",
       "        <tr>\n",
       "            <th>1</th>\n",
       "        </tr>\n",
       "    </thead>\n",
       "    <tbody>\n",
       "        <tr>\n",
       "            <td>462</td>\n",
       "        </tr>\n",
       "    </tbody>\n",
       "</table>"
      ],
      "text/plain": [
       "[(Decimal('462'),)]"
      ]
     },
     "execution_count": 7,
     "metadata": {},
     "output_type": "execute_result"
    }
   ],
   "source": [
    "%sql select count(*) from SCHOOLS where \"Elementary, Middle, or High School\" = 'ES'\n",
    "# NAME_OF_SCHOOL LIKE '%Elementary%'"
   ]
  },
  {
   "cell_type": "markdown",
   "metadata": {},
   "source": [
    "<details><summary>Click here for the hint</summary>\n",
    "\n",
    "```python\n",
    "Which column specifies the school type e.g. 'ES', 'MS', 'HS'?\n",
    "\n",
    "Does the column name have mixed case, spaces or other special characters?\n",
    "If so, ensure you use double quotes around the \"Name of the Column\"\n",
    "\n",
    "```\n",
    "\n",
    "</details>\n"
   ]
  },
  {
   "cell_type": "markdown",
   "metadata": {},
   "source": [
    "<details><summary>Click here for the solution</summary>\n",
    "\n",
    "```python\n",
    "%sql select count(*) from SCHOOLS where \"Elementary, Middle, or High School\" = 'ES'\n",
    "\n",
    "Correct answer: 462\n",
    "\n",
    "```\n",
    "\n",
    "</details>\n"
   ]
  },
  {
   "cell_type": "markdown",
   "metadata": {},
   "source": [
    "### Problem 2\n",
    "\n",
    "##### What is the highest Safety Score?\n"
   ]
  },
  {
   "cell_type": "code",
   "execution_count": 8,
   "metadata": {},
   "outputs": [
    {
     "name": "stdout",
     "output_type": "stream",
     "text": [
      " * ibm_db_sa://lsg70000:***@dashdb-txn-sbox-yp-lon02-04.services.eu-gb.bluemix.net:50000/BLUDB\n",
      "(ibm_db_dbi.ProgrammingError) ibm_db_dbi::ProgrammingError: Exception('SQLNumResultCols failed: [IBM][CLI Driver][DB2/LINUXX8664] SQL0206N  \"Safety\" is not valid in the context where it is used.  SQLSTATE=42703 SQLCODE=-206')\n",
      "[SQL: select count(*) from SCHOOLS where \"Safety\" = 'ES']\n",
      "(Background on this error at: http://sqlalche.me/e/13/f405)\n"
     ]
    }
   ],
   "source": [
    "%sql select count(*) from SCHOOLS where \"Safety\" = 'ES'"
   ]
  },
  {
   "cell_type": "markdown",
   "metadata": {},
   "source": [
    "<details><summary>Click here for the solution</summary>\n",
    "\n",
    "```python\n",
    "# Use the MAX() function\n",
    "\n",
    "%sql select MAX(Safety_Score) AS MAX_SAFETY_SCORE from SCHOOLS\n",
    "\n",
    "Correct answer: 99\n",
    "    \n",
    "```\n",
    "\n",
    "</details>\n"
   ]
  },
  {
   "cell_type": "markdown",
   "metadata": {},
   "source": [
    "### Problem 3\n",
    "\n",
    "##### Which schools have highest Safety Score?\n"
   ]
  },
  {
   "cell_type": "code",
   "execution_count": 9,
   "metadata": {},
   "outputs": [
    {
     "name": "stdout",
     "output_type": "stream",
     "text": [
      " * ibm_db_sa://lsg70000:***@dashdb-txn-sbox-yp-lon02-04.services.eu-gb.bluemix.net:50000/BLUDB\n",
      "Done.\n"
     ]
    },
    {
     "data": {
      "text/plain": [
       "array(['School_ID', 'name_of_school',\n",
       "       'Elementary, Middle, or High School', 'Street_Address', 'City',\n",
       "       'State', 'ZIP_Code', 'Phone_Number', 'Link', 'Network_Manager',\n",
       "       'Collaborative_Name', 'Adequate_Yearly_Progress_Made_',\n",
       "       'Track_Schedule', 'CPS_Performance_Policy_Status',\n",
       "       'CPS_Performance_Policy_Level', 'healthy_school_certified',\n",
       "       'Safety_Icon', 'safety_score', 'Family_Involvement_Icon',\n",
       "       'Family_Involvement_Score', 'Environment_Icon',\n",
       "       'Environment_Score', 'Instruction_Icon', 'Instruction_Score',\n",
       "       'Leaders_Icon', 'Leaders_Score', 'Teachers_Icon', 'Teachers_Score',\n",
       "       'Parent_Engagement_Icon', 'Parent_Engagement_Score',\n",
       "       'Parent_Environment_Icon', 'Parent_Environment_Score',\n",
       "       'average_student_attendance',\n",
       "       'Rate_of_Misconducts__per_100_students_',\n",
       "       'Average_Teacher_Attendance',\n",
       "       'Individualized_Education_Program_Compliance_Rate',\n",
       "       'Pk_2_Literacy__', 'Pk_2_Math__', 'Gr3_5_Grade_Level_Math__',\n",
       "       'Gr3_5_Grade_Level_Read__', 'Gr3_5_Keep_Pace_Read__',\n",
       "       'Gr3_5_Keep_Pace_Math__', 'Gr6_8_Grade_Level_Math__',\n",
       "       'Gr6_8_Grade_Level_Read__', 'Gr6_8_Keep_Pace_Math_',\n",
       "       'Gr6_8_Keep_Pace_Read__', 'Gr_8_Explore_Math__',\n",
       "       'Gr_8_Explore_Read__', 'ISAT_Exceeding_Math__',\n",
       "       'ISAT_Exceeding_Reading__', 'ISAT_Value_Add_Math',\n",
       "       'ISAT_Value_Add_Read', 'ISAT_Value_Add_Color_Math',\n",
       "       'ISAT_Value_Add_Color_Read', 'Students_Taking__Algebra__',\n",
       "       'Students_Passing__Algebra__', '9th Grade EXPLORE (2009)',\n",
       "       '9th Grade EXPLORE (2010)', '10th Grade PLAN (2009)',\n",
       "       '10th Grade PLAN (2010)', 'Net_Change_EXPLORE_and_PLAN',\n",
       "       '11th Grade Average ACT (2011)', 'Net_Change_PLAN_and_ACT',\n",
       "       'College_Eligibility__', 'Graduation_Rate__',\n",
       "       'College_Enrollment_Rate__', 'college_enrollment',\n",
       "       'General_Services_Route', 'Freshman_on_Track_Rate__',\n",
       "       'x_coordinate', 'y_coordinate', 'Latitude', 'Longitude',\n",
       "       'community_area_number', 'community_area_name', 'Ward',\n",
       "       'Police_District', 'Location'], dtype=object)"
      ]
     },
     "execution_count": 9,
     "metadata": {},
     "output_type": "execute_result"
    }
   ],
   "source": [
    "df = %sql select * from SCHOOLS\n",
    "df = df.DataFrame()\n",
    "df.columns.values"
   ]
  },
  {
   "cell_type": "code",
   "execution_count": null,
   "metadata": {},
   "outputs": [],
   "source": []
  },
  {
   "cell_type": "code",
   "execution_count": 10,
   "metadata": {},
   "outputs": [
    {
     "name": "stdout",
     "output_type": "stream",
     "text": [
      " * ibm_db_sa://lsg70000:***@dashdb-txn-sbox-yp-lon02-04.services.eu-gb.bluemix.net:50000/BLUDB\n",
      "Done.\n"
     ]
    },
    {
     "data": {
      "text/html": [
       "<table>\n",
       "    <thead>\n",
       "        <tr>\n",
       "            <th>name_of_school</th>\n",
       "            <th>safety_score</th>\n",
       "        </tr>\n",
       "    </thead>\n",
       "    <tbody>\n",
       "        <tr>\n",
       "            <td>Abraham Lincoln Elementary School</td>\n",
       "            <td>99</td>\n",
       "        </tr>\n",
       "        <tr>\n",
       "            <td>Alexander Graham Bell Elementary School</td>\n",
       "            <td>99</td>\n",
       "        </tr>\n",
       "        <tr>\n",
       "            <td>Annie Keller Elementary Gifted Magnet School</td>\n",
       "            <td>99</td>\n",
       "        </tr>\n",
       "        <tr>\n",
       "            <td>Augustus H Burley Elementary School</td>\n",
       "            <td>99</td>\n",
       "        </tr>\n",
       "        <tr>\n",
       "            <td>Edgar Allan Poe Elementary Classical School</td>\n",
       "            <td>99</td>\n",
       "        </tr>\n",
       "        <tr>\n",
       "            <td>Edgebrook Elementary School</td>\n",
       "            <td>99</td>\n",
       "        </tr>\n",
       "        <tr>\n",
       "            <td>Ellen Mitchell Elementary School</td>\n",
       "            <td>99</td>\n",
       "        </tr>\n",
       "        <tr>\n",
       "            <td>James E McDade Elementary Classical School</td>\n",
       "            <td>99</td>\n",
       "        </tr>\n",
       "        <tr>\n",
       "            <td>James G Blaine Elementary School</td>\n",
       "            <td>99</td>\n",
       "        </tr>\n",
       "        <tr>\n",
       "            <td>LaSalle Elementary Language Academy</td>\n",
       "            <td>99</td>\n",
       "        </tr>\n",
       "        <tr>\n",
       "            <td>Mary E Courtenay Elementary Language Arts Center</td>\n",
       "            <td>99</td>\n",
       "        </tr>\n",
       "        <tr>\n",
       "            <td>Northside College Preparatory High School</td>\n",
       "            <td>99</td>\n",
       "        </tr>\n",
       "        <tr>\n",
       "            <td>Northside Learning Center High School</td>\n",
       "            <td>99</td>\n",
       "        </tr>\n",
       "        <tr>\n",
       "            <td>Norwood Park Elementary School</td>\n",
       "            <td>99</td>\n",
       "        </tr>\n",
       "        <tr>\n",
       "            <td>Oriole Park Elementary School</td>\n",
       "            <td>99</td>\n",
       "        </tr>\n",
       "        <tr>\n",
       "            <td>Sauganash Elementary School</td>\n",
       "            <td>99</td>\n",
       "        </tr>\n",
       "        <tr>\n",
       "            <td>Stephen Decatur Classical Elementary School</td>\n",
       "            <td>99</td>\n",
       "        </tr>\n",
       "        <tr>\n",
       "            <td>Talman Elementary School</td>\n",
       "            <td>99</td>\n",
       "        </tr>\n",
       "        <tr>\n",
       "            <td>Wildwood Elementary School</td>\n",
       "            <td>99</td>\n",
       "        </tr>\n",
       "    </tbody>\n",
       "</table>"
      ],
      "text/plain": [
       "[('Abraham Lincoln Elementary School', 99),\n",
       " ('Alexander Graham Bell Elementary School', 99),\n",
       " ('Annie Keller Elementary Gifted Magnet School', 99),\n",
       " ('Augustus H Burley Elementary School', 99),\n",
       " ('Edgar Allan Poe Elementary Classical School', 99),\n",
       " ('Edgebrook Elementary School', 99),\n",
       " ('Ellen Mitchell Elementary School', 99),\n",
       " ('James E McDade Elementary Classical School', 99),\n",
       " ('James G Blaine Elementary School', 99),\n",
       " ('LaSalle Elementary Language Academy', 99),\n",
       " ('Mary E Courtenay Elementary Language Arts Center', 99),\n",
       " ('Northside College Preparatory High School', 99),\n",
       " ('Northside Learning Center High School', 99),\n",
       " ('Norwood Park Elementary School', 99),\n",
       " ('Oriole Park Elementary School', 99),\n",
       " ('Sauganash Elementary School', 99),\n",
       " ('Stephen Decatur Classical Elementary School', 99),\n",
       " ('Talman Elementary School', 99),\n",
       " ('Wildwood Elementary School', 99)]"
      ]
     },
     "execution_count": 10,
     "metadata": {},
     "output_type": "execute_result"
    }
   ],
   "source": [
    "%sql select NAME_OF_SCHOOL, SAFETY_SCORE from SCHOOLS where SAFETY_SCORE = (select MAX(SAFETY_SCORE) from SCHOOLS)"
   ]
  },
  {
   "cell_type": "code",
   "execution_count": 11,
   "metadata": {},
   "outputs": [
    {
     "name": "stdout",
     "output_type": "stream",
     "text": [
      " * ibm_db_sa://lsg70000:***@dashdb-txn-sbox-yp-lon02-04.services.eu-gb.bluemix.net:50000/BLUDB\n",
      "Done.\n"
     ]
    },
    {
     "data": {
      "text/html": [
       "<table>\n",
       "    <thead>\n",
       "        <tr>\n",
       "            <th>name_of_school</th>\n",
       "            <th>safety_score</th>\n",
       "        </tr>\n",
       "    </thead>\n",
       "    <tbody>\n",
       "        <tr>\n",
       "            <td>Abraham Lincoln Elementary School</td>\n",
       "            <td>99</td>\n",
       "        </tr>\n",
       "        <tr>\n",
       "            <td>Alexander Graham Bell Elementary School</td>\n",
       "            <td>99</td>\n",
       "        </tr>\n",
       "        <tr>\n",
       "            <td>Annie Keller Elementary Gifted Magnet School</td>\n",
       "            <td>99</td>\n",
       "        </tr>\n",
       "        <tr>\n",
       "            <td>Augustus H Burley Elementary School</td>\n",
       "            <td>99</td>\n",
       "        </tr>\n",
       "        <tr>\n",
       "            <td>Edgar Allan Poe Elementary Classical School</td>\n",
       "            <td>99</td>\n",
       "        </tr>\n",
       "        <tr>\n",
       "            <td>Edgebrook Elementary School</td>\n",
       "            <td>99</td>\n",
       "        </tr>\n",
       "        <tr>\n",
       "            <td>Ellen Mitchell Elementary School</td>\n",
       "            <td>99</td>\n",
       "        </tr>\n",
       "        <tr>\n",
       "            <td>James E McDade Elementary Classical School</td>\n",
       "            <td>99</td>\n",
       "        </tr>\n",
       "        <tr>\n",
       "            <td>James G Blaine Elementary School</td>\n",
       "            <td>99</td>\n",
       "        </tr>\n",
       "        <tr>\n",
       "            <td>LaSalle Elementary Language Academy</td>\n",
       "            <td>99</td>\n",
       "        </tr>\n",
       "        <tr>\n",
       "            <td>Mary E Courtenay Elementary Language Arts Center</td>\n",
       "            <td>99</td>\n",
       "        </tr>\n",
       "        <tr>\n",
       "            <td>Northside College Preparatory High School</td>\n",
       "            <td>99</td>\n",
       "        </tr>\n",
       "        <tr>\n",
       "            <td>Northside Learning Center High School</td>\n",
       "            <td>99</td>\n",
       "        </tr>\n",
       "        <tr>\n",
       "            <td>Norwood Park Elementary School</td>\n",
       "            <td>99</td>\n",
       "        </tr>\n",
       "        <tr>\n",
       "            <td>Oriole Park Elementary School</td>\n",
       "            <td>99</td>\n",
       "        </tr>\n",
       "        <tr>\n",
       "            <td>Sauganash Elementary School</td>\n",
       "            <td>99</td>\n",
       "        </tr>\n",
       "        <tr>\n",
       "            <td>Stephen Decatur Classical Elementary School</td>\n",
       "            <td>99</td>\n",
       "        </tr>\n",
       "        <tr>\n",
       "            <td>Talman Elementary School</td>\n",
       "            <td>99</td>\n",
       "        </tr>\n",
       "        <tr>\n",
       "            <td>Wildwood Elementary School</td>\n",
       "            <td>99</td>\n",
       "        </tr>\n",
       "    </tbody>\n",
       "</table>"
      ],
      "text/plain": [
       "[('Abraham Lincoln Elementary School', 99),\n",
       " ('Alexander Graham Bell Elementary School', 99),\n",
       " ('Annie Keller Elementary Gifted Magnet School', 99),\n",
       " ('Augustus H Burley Elementary School', 99),\n",
       " ('Edgar Allan Poe Elementary Classical School', 99),\n",
       " ('Edgebrook Elementary School', 99),\n",
       " ('Ellen Mitchell Elementary School', 99),\n",
       " ('James E McDade Elementary Classical School', 99),\n",
       " ('James G Blaine Elementary School', 99),\n",
       " ('LaSalle Elementary Language Academy', 99),\n",
       " ('Mary E Courtenay Elementary Language Arts Center', 99),\n",
       " ('Northside College Preparatory High School', 99),\n",
       " ('Northside Learning Center High School', 99),\n",
       " ('Norwood Park Elementary School', 99),\n",
       " ('Oriole Park Elementary School', 99),\n",
       " ('Sauganash Elementary School', 99),\n",
       " ('Stephen Decatur Classical Elementary School', 99),\n",
       " ('Talman Elementary School', 99),\n",
       " ('Wildwood Elementary School', 99)]"
      ]
     },
     "execution_count": 11,
     "metadata": {},
     "output_type": "execute_result"
    }
   ],
   "source": [
    "%sql select Name_of_School, Safety_Score from SCHOOLS where \\\n",
    "  Safety_Score= (select MAX(Safety_Score) from SCHOOLS)"
   ]
  },
  {
   "cell_type": "markdown",
   "metadata": {},
   "source": [
    "<details><summary>Click here for the solution</summary>\n",
    "\n",
    "```python\n",
    "# In the previous problem we found out that the highest Safety Score is 99, so we can use that as an input in the where clause:\n",
    "\n",
    "%sql select Name_of_School, Safety_Score from SCHOOLS where Safety_Score = 99\n",
    "\n",
    "or, a better way:\n",
    "\n",
    "%sql select Name_of_School, Safety_Score from SCHOOLS where \\\n",
    "  Safety_Score= (select MAX(Safety_Score) from SCHOOLS)\n",
    "\n",
    "\n",
    "Correct answer: several schools with with Safety Score of 99.\n",
    "    \n",
    "```\n",
    "\n",
    "</details>\n"
   ]
  },
  {
   "cell_type": "markdown",
   "metadata": {},
   "source": [
    "### Problem 4\n",
    "\n",
    "##### What are the top 10 schools with the highest \"Average Student Attendance\"?\n"
   ]
  },
  {
   "cell_type": "code",
   "execution_count": 12,
   "metadata": {},
   "outputs": [
    {
     "name": "stdout",
     "output_type": "stream",
     "text": [
      "average_student_attendance\n",
      "Average_Teacher_Attendance\n",
      "11th Grade Average ACT (2011)\n"
     ]
    }
   ],
   "source": [
    "for col in df.columns.values:\n",
    "    if 'average' in col.lower():\n",
    "        print(col)"
   ]
  },
  {
   "cell_type": "code",
   "execution_count": 13,
   "metadata": {},
   "outputs": [
    {
     "name": "stdout",
     "output_type": "stream",
     "text": [
      " * ibm_db_sa://lsg70000:***@dashdb-txn-sbox-yp-lon02-04.services.eu-gb.bluemix.net:50000/BLUDB\n",
      "Done.\n"
     ]
    },
    {
     "data": {
      "text/html": [
       "<table>\n",
       "    <thead>\n",
       "        <tr>\n",
       "            <th>name_of_school</th>\n",
       "            <th>average_student_attendance</th>\n",
       "        </tr>\n",
       "    </thead>\n",
       "    <tbody>\n",
       "        <tr>\n",
       "            <td>John Charles Haines Elementary School</td>\n",
       "            <td>98.40%</td>\n",
       "        </tr>\n",
       "        <tr>\n",
       "            <td>James Ward Elementary School</td>\n",
       "            <td>97.80%</td>\n",
       "        </tr>\n",
       "        <tr>\n",
       "            <td>Edgar Allan Poe Elementary Classical School</td>\n",
       "            <td>97.60%</td>\n",
       "        </tr>\n",
       "        <tr>\n",
       "            <td>Orozco Fine Arts &amp; Sciences Elementary School</td>\n",
       "            <td>97.60%</td>\n",
       "        </tr>\n",
       "        <tr>\n",
       "            <td>Rachel Carson Elementary School</td>\n",
       "            <td>97.60%</td>\n",
       "        </tr>\n",
       "        <tr>\n",
       "            <td>Annie Keller Elementary Gifted Magnet School</td>\n",
       "            <td>97.50%</td>\n",
       "        </tr>\n",
       "        <tr>\n",
       "            <td>Andrew Jackson Elementary Language Academy</td>\n",
       "            <td>97.40%</td>\n",
       "        </tr>\n",
       "        <tr>\n",
       "            <td>Lenart Elementary Regional Gifted Center</td>\n",
       "            <td>97.40%</td>\n",
       "        </tr>\n",
       "        <tr>\n",
       "            <td>Disney II Magnet School</td>\n",
       "            <td>97.30%</td>\n",
       "        </tr>\n",
       "        <tr>\n",
       "            <td>John H Vanderpoel Elementary Magnet School</td>\n",
       "            <td>97.20%</td>\n",
       "        </tr>\n",
       "    </tbody>\n",
       "</table>"
      ],
      "text/plain": [
       "[('John Charles Haines Elementary School', '98.40%'),\n",
       " ('James Ward Elementary School', '97.80%'),\n",
       " ('Edgar Allan Poe Elementary Classical School', '97.60%'),\n",
       " ('Orozco Fine Arts & Sciences Elementary School', '97.60%'),\n",
       " ('Rachel Carson Elementary School', '97.60%'),\n",
       " ('Annie Keller Elementary Gifted Magnet School', '97.50%'),\n",
       " ('Andrew Jackson Elementary Language Academy', '97.40%'),\n",
       " ('Lenart Elementary Regional Gifted Center', '97.40%'),\n",
       " ('Disney II Magnet School', '97.30%'),\n",
       " ('John H Vanderpoel Elementary Magnet School', '97.20%')]"
      ]
     },
     "execution_count": 13,
     "metadata": {},
     "output_type": "execute_result"
    }
   ],
   "source": [
    "%sql select Name_of_School, average_student_attendance from SCHOOLS ORDER BY average_student_attendance DESC NULLS LAST limit 10\n",
    "# = (select MAX(average_student_attendance) from SCHOOLS)"
   ]
  },
  {
   "cell_type": "code",
   "execution_count": 14,
   "metadata": {},
   "outputs": [
    {
     "name": "stdout",
     "output_type": "stream",
     "text": [
      " * ibm_db_sa://lsg70000:***@dashdb-txn-sbox-yp-lon02-04.services.eu-gb.bluemix.net:50000/BLUDB\n",
      "Done.\n"
     ]
    },
    {
     "data": {
      "text/html": [
       "<table>\n",
       "    <thead>\n",
       "        <tr>\n",
       "            <th>name_of_school</th>\n",
       "            <th>average_student_attendance</th>\n",
       "        </tr>\n",
       "    </thead>\n",
       "    <tbody>\n",
       "        <tr>\n",
       "            <td>John Charles Haines Elementary School</td>\n",
       "            <td>98.40%</td>\n",
       "        </tr>\n",
       "        <tr>\n",
       "            <td>James Ward Elementary School</td>\n",
       "            <td>97.80%</td>\n",
       "        </tr>\n",
       "        <tr>\n",
       "            <td>Edgar Allan Poe Elementary Classical School</td>\n",
       "            <td>97.60%</td>\n",
       "        </tr>\n",
       "        <tr>\n",
       "            <td>Orozco Fine Arts &amp; Sciences Elementary School</td>\n",
       "            <td>97.60%</td>\n",
       "        </tr>\n",
       "        <tr>\n",
       "            <td>Rachel Carson Elementary School</td>\n",
       "            <td>97.60%</td>\n",
       "        </tr>\n",
       "        <tr>\n",
       "            <td>Annie Keller Elementary Gifted Magnet School</td>\n",
       "            <td>97.50%</td>\n",
       "        </tr>\n",
       "        <tr>\n",
       "            <td>Andrew Jackson Elementary Language Academy</td>\n",
       "            <td>97.40%</td>\n",
       "        </tr>\n",
       "        <tr>\n",
       "            <td>Lenart Elementary Regional Gifted Center</td>\n",
       "            <td>97.40%</td>\n",
       "        </tr>\n",
       "        <tr>\n",
       "            <td>Disney II Magnet School</td>\n",
       "            <td>97.30%</td>\n",
       "        </tr>\n",
       "        <tr>\n",
       "            <td>John H Vanderpoel Elementary Magnet School</td>\n",
       "            <td>97.20%</td>\n",
       "        </tr>\n",
       "    </tbody>\n",
       "</table>"
      ],
      "text/plain": [
       "[('John Charles Haines Elementary School', '98.40%'),\n",
       " ('James Ward Elementary School', '97.80%'),\n",
       " ('Edgar Allan Poe Elementary Classical School', '97.60%'),\n",
       " ('Orozco Fine Arts & Sciences Elementary School', '97.60%'),\n",
       " ('Rachel Carson Elementary School', '97.60%'),\n",
       " ('Annie Keller Elementary Gifted Magnet School', '97.50%'),\n",
       " ('Andrew Jackson Elementary Language Academy', '97.40%'),\n",
       " ('Lenart Elementary Regional Gifted Center', '97.40%'),\n",
       " ('Disney II Magnet School', '97.30%'),\n",
       " ('John H Vanderpoel Elementary Magnet School', '97.20%')]"
      ]
     },
     "execution_count": 14,
     "metadata": {},
     "output_type": "execute_result"
    }
   ],
   "source": [
    "%sql select Name_of_School, Average_Student_Attendance from SCHOOLS \\\n",
    "    order by Average_Student_Attendance desc nulls last limit 10 "
   ]
  },
  {
   "cell_type": "markdown",
   "metadata": {},
   "source": [
    "<details><summary>Click here for the solution</summary>\n",
    "\n",
    "```python\n",
    "%sql select Name_of_School, Average_Student_Attendance from SCHOOLS \\\n",
    "    order by Average_Student_Attendance desc nulls last limit 10 \n",
    "    \n",
    "```\n",
    "\n",
    "</details>\n"
   ]
  },
  {
   "cell_type": "markdown",
   "metadata": {},
   "source": [
    "### Problem 5\n",
    "\n",
    "##### Retrieve the list of 5 Schools with the lowest Average Student Attendance sorted in ascending order based on attendance\n"
   ]
  },
  {
   "cell_type": "code",
   "execution_count": 15,
   "metadata": {},
   "outputs": [
    {
     "name": "stdout",
     "output_type": "stream",
     "text": [
      " * ibm_db_sa://lsg70000:***@dashdb-txn-sbox-yp-lon02-04.services.eu-gb.bluemix.net:50000/BLUDB\n",
      "Done.\n"
     ]
    },
    {
     "data": {
      "text/html": [
       "<table>\n",
       "    <thead>\n",
       "        <tr>\n",
       "            <th>name_of_school</th>\n",
       "            <th>average_student_attendance</th>\n",
       "        </tr>\n",
       "    </thead>\n",
       "    <tbody>\n",
       "        <tr>\n",
       "            <td>Richard T Crane Technical Preparatory High School</td>\n",
       "            <td>57.90%</td>\n",
       "        </tr>\n",
       "        <tr>\n",
       "            <td>Barbara Vick Early Childhood &amp; Family Center</td>\n",
       "            <td>60.90%</td>\n",
       "        </tr>\n",
       "        <tr>\n",
       "            <td>Dyett High School</td>\n",
       "            <td>62.50%</td>\n",
       "        </tr>\n",
       "        <tr>\n",
       "            <td>Wendell Phillips Academy High School</td>\n",
       "            <td>63.00%</td>\n",
       "        </tr>\n",
       "        <tr>\n",
       "            <td>Orr Academy High School</td>\n",
       "            <td>66.30%</td>\n",
       "        </tr>\n",
       "    </tbody>\n",
       "</table>"
      ],
      "text/plain": [
       "[('Richard T Crane Technical Preparatory High School', '57.90%'),\n",
       " ('Barbara Vick Early Childhood & Family Center', '60.90%'),\n",
       " ('Dyett High School', '62.50%'),\n",
       " ('Wendell Phillips Academy High School', '63.00%'),\n",
       " ('Orr Academy High School', '66.30%')]"
      ]
     },
     "execution_count": 15,
     "metadata": {},
     "output_type": "execute_result"
    }
   ],
   "source": [
    "%sql select Name_of_School, average_student_attendance from SCHOOLS \\\n",
    "    ORDER BY average_student_attendance NULLS LAST limit 5"
   ]
  },
  {
   "cell_type": "code",
   "execution_count": 16,
   "metadata": {},
   "outputs": [
    {
     "name": "stdout",
     "output_type": "stream",
     "text": [
      " * ibm_db_sa://lsg70000:***@dashdb-txn-sbox-yp-lon02-04.services.eu-gb.bluemix.net:50000/BLUDB\n",
      "Done.\n"
     ]
    },
    {
     "data": {
      "text/html": [
       "<table>\n",
       "    <thead>\n",
       "        <tr>\n",
       "            <th>name_of_school</th>\n",
       "            <th>average_student_attendance</th>\n",
       "        </tr>\n",
       "    </thead>\n",
       "    <tbody>\n",
       "        <tr>\n",
       "            <td>Richard T Crane Technical Preparatory High School</td>\n",
       "            <td>57.90%</td>\n",
       "        </tr>\n",
       "        <tr>\n",
       "            <td>Barbara Vick Early Childhood &amp; Family Center</td>\n",
       "            <td>60.90%</td>\n",
       "        </tr>\n",
       "        <tr>\n",
       "            <td>Dyett High School</td>\n",
       "            <td>62.50%</td>\n",
       "        </tr>\n",
       "        <tr>\n",
       "            <td>Wendell Phillips Academy High School</td>\n",
       "            <td>63.00%</td>\n",
       "        </tr>\n",
       "        <tr>\n",
       "            <td>Orr Academy High School</td>\n",
       "            <td>66.30%</td>\n",
       "        </tr>\n",
       "    </tbody>\n",
       "</table>"
      ],
      "text/plain": [
       "[('Richard T Crane Technical Preparatory High School', '57.90%'),\n",
       " ('Barbara Vick Early Childhood & Family Center', '60.90%'),\n",
       " ('Dyett High School', '62.50%'),\n",
       " ('Wendell Phillips Academy High School', '63.00%'),\n",
       " ('Orr Academy High School', '66.30%')]"
      ]
     },
     "execution_count": 16,
     "metadata": {},
     "output_type": "execute_result"
    }
   ],
   "source": [
    "%sql SELECT Name_of_School, Average_Student_Attendance  \\\n",
    "     from SCHOOLS \\\n",
    "     order by Average_Student_Attendance \\\n",
    "     fetch first 5 rows only"
   ]
  },
  {
   "cell_type": "markdown",
   "metadata": {},
   "source": [
    "<details><summary>Click here for the solution</summary>\n",
    "\n",
    "```python\n",
    "%sql SELECT Name_of_School, Average_Student_Attendance  \\\n",
    "     from SCHOOLS \\\n",
    "     order by Average_Student_Attendance \\\n",
    "     fetch first 5 rows only\n",
    "\n",
    "```\n",
    "\n",
    "</details>\n"
   ]
  },
  {
   "cell_type": "markdown",
   "metadata": {},
   "source": [
    "### Problem 6\n",
    "\n",
    "##### Now remove the '%' sign from the above result set for Average Student Attendance column\n"
   ]
  },
  {
   "cell_type": "code",
   "execution_count": 17,
   "metadata": {},
   "outputs": [
    {
     "name": "stdout",
     "output_type": "stream",
     "text": [
      " * ibm_db_sa://lsg70000:***@dashdb-txn-sbox-yp-lon02-04.services.eu-gb.bluemix.net:50000/BLUDB\n",
      "Done.\n"
     ]
    },
    {
     "data": {
      "text/html": [
       "<table>\n",
       "    <thead>\n",
       "        <tr>\n",
       "            <th>name_of_school</th>\n",
       "            <th>average_student_attendance</th>\n",
       "        </tr>\n",
       "    </thead>\n",
       "    <tbody>\n",
       "        <tr>\n",
       "            <td>Richard T Crane Technical Preparatory High School</td>\n",
       "            <td>57.90</td>\n",
       "        </tr>\n",
       "        <tr>\n",
       "            <td>Barbara Vick Early Childhood &amp; Family Center</td>\n",
       "            <td>60.90</td>\n",
       "        </tr>\n",
       "        <tr>\n",
       "            <td>Dyett High School</td>\n",
       "            <td>62.50</td>\n",
       "        </tr>\n",
       "        <tr>\n",
       "            <td>Wendell Phillips Academy High School</td>\n",
       "            <td>63.00</td>\n",
       "        </tr>\n",
       "        <tr>\n",
       "            <td>Orr Academy High School</td>\n",
       "            <td>66.30</td>\n",
       "        </tr>\n",
       "    </tbody>\n",
       "</table>"
      ],
      "text/plain": [
       "[('Richard T Crane Technical Preparatory High School', '57.90'),\n",
       " ('Barbara Vick Early Childhood & Family Center', '60.90'),\n",
       " ('Dyett High School', '62.50'),\n",
       " ('Wendell Phillips Academy High School', '63.00'),\n",
       " ('Orr Academy High School', '66.30')]"
      ]
     },
     "execution_count": 17,
     "metadata": {},
     "output_type": "execute_result"
    }
   ],
   "source": [
    "%sql select Name_of_School, REPLACE(average_student_attendance, '%', '') AS average_student_attendance from SCHOOLS \\\n",
    "    ORDER BY average_student_attendance NULLS LAST limit 5"
   ]
  },
  {
   "cell_type": "markdown",
   "metadata": {},
   "source": [
    "<details><summary>Click here for the solution</summary>\n",
    "\n",
    "```python\n",
    "#Use the REPLACE() function to replace '%' with ''\n",
    "#See documentation for this function at: \n",
    "https://www.ibm.com/support/knowledgecenter/en/SSEPGG_10.5.0/com.ibm.db2.luw.sql.ref.doc/doc/r0000843.html\n",
    "\n",
    "%sql SELECT Name_of_School, REPLACE(Average_Student_Attendance, '%', '') \\\n",
    "     from SCHOOLS \\\n",
    "     order by Average_Student_Attendance \\\n",
    "     fetch first 5 rows only\n",
    "\n",
    "```\n",
    "\n",
    "</details>\n"
   ]
  },
  {
   "cell_type": "markdown",
   "metadata": {},
   "source": [
    "### Problem 7\n",
    "\n",
    "##### Which Schools have Average Student Attendance lower than 70%?\n"
   ]
  },
  {
   "cell_type": "code",
   "execution_count": 18,
   "metadata": {},
   "outputs": [
    {
     "name": "stdout",
     "output_type": "stream",
     "text": [
      " * ibm_db_sa://lsg70000:***@dashdb-txn-sbox-yp-lon02-04.services.eu-gb.bluemix.net:50000/BLUDB\n",
      "Done.\n"
     ]
    },
    {
     "data": {
      "text/html": [
       "<table>\n",
       "    <thead>\n",
       "        <tr>\n",
       "            <th>name_of_school</th>\n",
       "            <th>average_student_attendance</th>\n",
       "        </tr>\n",
       "    </thead>\n",
       "    <tbody>\n",
       "        <tr>\n",
       "            <td>Richard T Crane Technical Preparatory High School</td>\n",
       "            <td>57.90</td>\n",
       "        </tr>\n",
       "        <tr>\n",
       "            <td>Barbara Vick Early Childhood &amp; Family Center</td>\n",
       "            <td>60.90</td>\n",
       "        </tr>\n",
       "        <tr>\n",
       "            <td>Dyett High School</td>\n",
       "            <td>62.50</td>\n",
       "        </tr>\n",
       "        <tr>\n",
       "            <td>Wendell Phillips Academy High School</td>\n",
       "            <td>63.00</td>\n",
       "        </tr>\n",
       "        <tr>\n",
       "            <td>Orr Academy High School</td>\n",
       "            <td>66.30</td>\n",
       "        </tr>\n",
       "        <tr>\n",
       "            <td>Manley Career Academy High School</td>\n",
       "            <td>66.80</td>\n",
       "        </tr>\n",
       "        <tr>\n",
       "            <td>Chicago Vocational Career Academy High School</td>\n",
       "            <td>68.80</td>\n",
       "        </tr>\n",
       "        <tr>\n",
       "            <td>Roberto Clemente Community Academy High School</td>\n",
       "            <td>69.60</td>\n",
       "        </tr>\n",
       "    </tbody>\n",
       "</table>"
      ],
      "text/plain": [
       "[('Richard T Crane Technical Preparatory High School', '57.90'),\n",
       " ('Barbara Vick Early Childhood & Family Center', '60.90'),\n",
       " ('Dyett High School', '62.50'),\n",
       " ('Wendell Phillips Academy High School', '63.00'),\n",
       " ('Orr Academy High School', '66.30'),\n",
       " ('Manley Career Academy High School', '66.80'),\n",
       " ('Chicago Vocational Career Academy High School', '68.80'),\n",
       " ('Roberto Clemente Community Academy High School', '69.60')]"
      ]
     },
     "execution_count": 18,
     "metadata": {},
     "output_type": "execute_result"
    }
   ],
   "source": [
    "%sql select Name_of_School, REPLACE(average_student_attendance, '%', '') AS average_student_attendance from SCHOOLS \\\n",
    "    WHERE DECIMAL(REPLACE(average_student_attendance, '%', '')) < 70 \\\n",
    "    order by Average_Student_Attendance"
   ]
  },
  {
   "cell_type": "markdown",
   "metadata": {},
   "source": [
    "<details><summary>Click here for the hint</summary>\n",
    "\n",
    "```python\n",
    "The datatype of the \"Average_Student_Attendance\" column is varchar.\n",
    "So you cannot use it as is in the where clause for a numeric comparison.\n",
    "First use the CAST() function to cast it as a DECIMAL or DOUBLE\n",
    "e.g. CAST(\"Column_Name\" as DOUBLE)\n",
    "or simply: DECIMAL(\"Column_Name\")\n",
    "\n",
    "Don't forget the '%' age sign needs to be removed before casting\n",
    "\n",
    "```\n",
    "\n",
    "</details>\n"
   ]
  },
  {
   "cell_type": "markdown",
   "metadata": {},
   "source": [
    "<details><summary>Click here for the solution</summary>\n",
    "\n",
    "```python\n",
    "%sql SELECT Name_of_School, Average_Student_Attendance  \\\n",
    "     from SCHOOLS \\\n",
    "     where CAST ( REPLACE(Average_Student_Attendance, '%', '') AS DOUBLE ) < 70 \\\n",
    "     order by Average_Student_Attendance\n",
    "     \n",
    "or,\n",
    "\n",
    "%sql SELECT Name_of_School, Average_Student_Attendance  \\\n",
    "     from SCHOOLS \\\n",
    "     where DECIMAL ( REPLACE(Average_Student_Attendance, '%', '') ) < 70 \\\n",
    "     order by Average_Student_Attendance\n",
    "\n",
    "```\n",
    "\n",
    "</details>\n"
   ]
  },
  {
   "cell_type": "markdown",
   "metadata": {},
   "source": [
    "### Problem 8\n",
    "\n",
    "##### Get the total College Enrollment for each Community Area\n"
   ]
  },
  {
   "cell_type": "code",
   "execution_count": 22,
   "metadata": {},
   "outputs": [
    {
     "name": "stdout",
     "output_type": "stream",
     "text": [
      "community_area_number\n",
      "community_area_name\n"
     ]
    }
   ],
   "source": [
    "for col in df.columns.values:\n",
    "    if 'community' in col.lower():\n",
    "        print(col)"
   ]
  },
  {
   "cell_type": "code",
   "execution_count": 29,
   "metadata": {},
   "outputs": [
    {
     "name": "stdout",
     "output_type": "stream",
     "text": [
      " * ibm_db_sa://lsg70000:***@dashdb-txn-sbox-yp-lon02-04.services.eu-gb.bluemix.net:50000/BLUDB\n",
      "(ibm_db_dbi.ProgrammingError) ibm_db_dbi::ProgrammingError: Exception('SQLNumResultCols failed: [IBM][CLI Driver][DB2/LINUXX8664] SQL0119N  An expression starting with \"COMMUNITY_AREA_NAME\" specified in a SELECT clause, HAVING clause, or ORDER BY clause is not specified in the GROUP BY clause or it is in a SELECT clause, HAVING clause, or ORDER BY clause with a column function and no GROUP BY clause is specified.  SQLSTATE=42803 SQLCODE=-119')\n",
      "[SQL: select SUM(college_enrollment), Community_Area_Name, community_area_number  from SCHOOLS      GROUP BY community_area_number]\n",
      "(Background on this error at: http://sqlalche.me/e/13/f405)\n"
     ]
    }
   ],
   "source": [
    "%sql select SUM(college_enrollment), Community_Area_Name, community_area_number  from SCHOOLS \\\n",
    "    GROUP BY community_area_number"
   ]
  },
  {
   "cell_type": "code",
   "execution_count": 34,
   "metadata": {},
   "outputs": [
    {
     "name": "stdout",
     "output_type": "stream",
     "text": [
      " * ibm_db_sa://lsg70000:***@dashdb-txn-sbox-yp-lon02-04.services.eu-gb.bluemix.net:50000/BLUDB\n",
      "Done.\n"
     ]
    },
    {
     "data": {
      "text/html": [
       "<table>\n",
       "    <thead>\n",
       "        <tr>\n",
       "            <th>total_college_enrollment</th>\n",
       "            <th>community_area_name</th>\n",
       "        </tr>\n",
       "    </thead>\n",
       "    <tbody>\n",
       "        <tr>\n",
       "            <td>6864</td>\n",
       "            <td>ALBANY PARK</td>\n",
       "        </tr>\n",
       "        <tr>\n",
       "            <td>4823</td>\n",
       "            <td>ARCHER HEIGHTS</td>\n",
       "        </tr>\n",
       "        <tr>\n",
       "            <td>1458</td>\n",
       "            <td>ARMOUR SQUARE</td>\n",
       "        </tr>\n",
       "        <tr>\n",
       "            <td>6483</td>\n",
       "            <td>ASHBURN</td>\n",
       "        </tr>\n",
       "        <tr>\n",
       "            <td>4175</td>\n",
       "            <td>AUBURN GRESHAM</td>\n",
       "        </tr>\n",
       "        <tr>\n",
       "            <td>10933</td>\n",
       "            <td>AUSTIN</td>\n",
       "        </tr>\n",
       "        <tr>\n",
       "            <td>1522</td>\n",
       "            <td>AVALON PARK</td>\n",
       "        </tr>\n",
       "        <tr>\n",
       "            <td>3640</td>\n",
       "            <td>AVONDALE</td>\n",
       "        </tr>\n",
       "        <tr>\n",
       "            <td>14386</td>\n",
       "            <td>BELMONT CRAGIN</td>\n",
       "        </tr>\n",
       "        <tr>\n",
       "            <td>1636</td>\n",
       "            <td>BEVERLY</td>\n",
       "        </tr>\n",
       "        <tr>\n",
       "            <td>3167</td>\n",
       "            <td>BRIDGEPORT</td>\n",
       "        </tr>\n",
       "        <tr>\n",
       "            <td>9647</td>\n",
       "            <td>BRIGHTON PARK</td>\n",
       "        </tr>\n",
       "        <tr>\n",
       "            <td>549</td>\n",
       "            <td>BURNSIDE</td>\n",
       "        </tr>\n",
       "        <tr>\n",
       "            <td>1568</td>\n",
       "            <td>CALUMET HEIGHTS</td>\n",
       "        </tr>\n",
       "        <tr>\n",
       "            <td>5042</td>\n",
       "            <td>CHATHAM</td>\n",
       "        </tr>\n",
       "        <tr>\n",
       "            <td>7086</td>\n",
       "            <td>CHICAGO LAWN</td>\n",
       "        </tr>\n",
       "        <tr>\n",
       "            <td>2085</td>\n",
       "            <td>CLEARING</td>\n",
       "        </tr>\n",
       "        <tr>\n",
       "            <td>4670</td>\n",
       "            <td>DOUGLAS</td>\n",
       "        </tr>\n",
       "        <tr>\n",
       "            <td>4568</td>\n",
       "            <td>DUNNING</td>\n",
       "        </tr>\n",
       "        <tr>\n",
       "            <td>5337</td>\n",
       "            <td>EAST GARFIELD PARK</td>\n",
       "        </tr>\n",
       "        <tr>\n",
       "            <td>5305</td>\n",
       "            <td>EAST SIDE</td>\n",
       "        </tr>\n",
       "        <tr>\n",
       "            <td>4600</td>\n",
       "            <td>EDGEWATER</td>\n",
       "        </tr>\n",
       "        <tr>\n",
       "            <td>910</td>\n",
       "            <td>EDISON PARK</td>\n",
       "        </tr>\n",
       "        <tr>\n",
       "            <td>6832</td>\n",
       "            <td>ENGLEWOOD</td>\n",
       "        </tr>\n",
       "        <tr>\n",
       "            <td>1431</td>\n",
       "            <td>FOREST GLEN</td>\n",
       "        </tr>\n",
       "        <tr>\n",
       "            <td>531</td>\n",
       "            <td>FULLER PARK</td>\n",
       "        </tr>\n",
       "        <tr>\n",
       "            <td>9915</td>\n",
       "            <td>GAGE PARK</td>\n",
       "        </tr>\n",
       "        <tr>\n",
       "            <td>4552</td>\n",
       "            <td>GARFIELD RIDGE</td>\n",
       "        </tr>\n",
       "        <tr>\n",
       "            <td>2809</td>\n",
       "            <td>GRAND BOULEVARD</td>\n",
       "        </tr>\n",
       "        <tr>\n",
       "            <td>4051</td>\n",
       "            <td>GREATER GRAND CROSSING</td>\n",
       "        </tr>\n",
       "        <tr>\n",
       "            <td>963</td>\n",
       "            <td>HEGEWISCH</td>\n",
       "        </tr>\n",
       "        <tr>\n",
       "            <td>3975</td>\n",
       "            <td>HERMOSA</td>\n",
       "        </tr>\n",
       "        <tr>\n",
       "            <td>8620</td>\n",
       "            <td>HUMBOLDT PARK</td>\n",
       "        </tr>\n",
       "        <tr>\n",
       "            <td>1930</td>\n",
       "            <td>HYDE PARK</td>\n",
       "        </tr>\n",
       "        <tr>\n",
       "            <td>7764</td>\n",
       "            <td>IRVING PARK</td>\n",
       "        </tr>\n",
       "        <tr>\n",
       "            <td>1755</td>\n",
       "            <td>JEFFERSON PARK</td>\n",
       "        </tr>\n",
       "        <tr>\n",
       "            <td>4287</td>\n",
       "            <td>KENWOOD</td>\n",
       "        </tr>\n",
       "        <tr>\n",
       "            <td>7055</td>\n",
       "            <td>LAKE VIEW</td>\n",
       "        </tr>\n",
       "        <tr>\n",
       "            <td>5615</td>\n",
       "            <td>LINCOLN PARK</td>\n",
       "        </tr>\n",
       "        <tr>\n",
       "            <td>4132</td>\n",
       "            <td>LINCOLN SQUARE</td>\n",
       "        </tr>\n",
       "        <tr>\n",
       "            <td>7351</td>\n",
       "            <td>LOGAN SQUARE</td>\n",
       "        </tr>\n",
       "        <tr>\n",
       "            <td>871</td>\n",
       "            <td>LOOP</td>\n",
       "        </tr>\n",
       "        <tr>\n",
       "            <td>7257</td>\n",
       "            <td>LOWER WEST SIDE</td>\n",
       "        </tr>\n",
       "        <tr>\n",
       "            <td>1552</td>\n",
       "            <td>MCKINLEY PARK</td>\n",
       "        </tr>\n",
       "        <tr>\n",
       "            <td>1317</td>\n",
       "            <td>MONTCLARE</td>\n",
       "        </tr>\n",
       "        <tr>\n",
       "            <td>3271</td>\n",
       "            <td>MORGAN PARK</td>\n",
       "        </tr>\n",
       "        <tr>\n",
       "            <td>2091</td>\n",
       "            <td>MOUNT GREENWOOD</td>\n",
       "        </tr>\n",
       "        <tr>\n",
       "            <td>3362</td>\n",
       "            <td>NEAR NORTH SIDE</td>\n",
       "        </tr>\n",
       "        <tr>\n",
       "            <td>1378</td>\n",
       "            <td>NEAR SOUTH SIDE</td>\n",
       "        </tr>\n",
       "        <tr>\n",
       "            <td>7975</td>\n",
       "            <td>NEAR WEST SIDE</td>\n",
       "        </tr>\n",
       "        <tr>\n",
       "            <td>7922</td>\n",
       "            <td>NEW CITY</td>\n",
       "        </tr>\n",
       "        <tr>\n",
       "            <td>7541</td>\n",
       "            <td>NORTH CENTER</td>\n",
       "        </tr>\n",
       "        <tr>\n",
       "            <td>5146</td>\n",
       "            <td>NORTH LAWNDALE</td>\n",
       "        </tr>\n",
       "        <tr>\n",
       "            <td>4210</td>\n",
       "            <td>NORTH PARK</td>\n",
       "        </tr>\n",
       "        <tr>\n",
       "            <td>6469</td>\n",
       "            <td>NORWOOD PARK</td>\n",
       "        </tr>\n",
       "        <tr>\n",
       "            <td>140</td>\n",
       "            <td>OAKLAND</td>\n",
       "        </tr>\n",
       "        <tr>\n",
       "            <td>786</td>\n",
       "            <td>OHARE</td>\n",
       "        </tr>\n",
       "        <tr>\n",
       "            <td>6954</td>\n",
       "            <td>PORTAGE PARK</td>\n",
       "        </tr>\n",
       "        <tr>\n",
       "            <td>1620</td>\n",
       "            <td>PULLMAN</td>\n",
       "        </tr>\n",
       "        <tr>\n",
       "            <td>1547</td>\n",
       "            <td>RIVERDALE</td>\n",
       "        </tr>\n",
       "        <tr>\n",
       "            <td>4068</td>\n",
       "            <td>ROGERS PARK</td>\n",
       "        </tr>\n",
       "        <tr>\n",
       "            <td>7020</td>\n",
       "            <td>ROSELAND</td>\n",
       "        </tr>\n",
       "        <tr>\n",
       "            <td>4043</td>\n",
       "            <td>SOUTH CHICAGO</td>\n",
       "        </tr>\n",
       "        <tr>\n",
       "            <td>1859</td>\n",
       "            <td>SOUTH DEERING</td>\n",
       "        </tr>\n",
       "        <tr>\n",
       "            <td>14793</td>\n",
       "            <td>SOUTH LAWNDALE</td>\n",
       "        </tr>\n",
       "        <tr>\n",
       "            <td>4543</td>\n",
       "            <td>SOUTH SHORE</td>\n",
       "        </tr>\n",
       "        <tr>\n",
       "            <td>4388</td>\n",
       "            <td>UPTOWN</td>\n",
       "        </tr>\n",
       "        <tr>\n",
       "            <td>4006</td>\n",
       "            <td>WASHINGTON HEIGHTS</td>\n",
       "        </tr>\n",
       "        <tr>\n",
       "            <td>2648</td>\n",
       "            <td>WASHINGTON PARK</td>\n",
       "        </tr>\n",
       "        <tr>\n",
       "            <td>3700</td>\n",
       "            <td>WEST ELSDON</td>\n",
       "        </tr>\n",
       "        <tr>\n",
       "            <td>5946</td>\n",
       "            <td>WEST ENGLEWOOD</td>\n",
       "        </tr>\n",
       "        <tr>\n",
       "            <td>2622</td>\n",
       "            <td>WEST GARFIELD PARK</td>\n",
       "        </tr>\n",
       "        <tr>\n",
       "            <td>4207</td>\n",
       "            <td>WEST LAWN</td>\n",
       "        </tr>\n",
       "        <tr>\n",
       "            <td>3240</td>\n",
       "            <td>WEST PULLMAN</td>\n",
       "        </tr>\n",
       "        <tr>\n",
       "            <td>8197</td>\n",
       "            <td>WEST RIDGE</td>\n",
       "        </tr>\n",
       "        <tr>\n",
       "            <td>9429</td>\n",
       "            <td>WEST TOWN</td>\n",
       "        </tr>\n",
       "        <tr>\n",
       "            <td>4206</td>\n",
       "            <td>WOODLAWN</td>\n",
       "        </tr>\n",
       "    </tbody>\n",
       "</table>"
      ],
      "text/plain": [
       "[(6864, 'ALBANY PARK'),\n",
       " (4823, 'ARCHER HEIGHTS'),\n",
       " (1458, 'ARMOUR SQUARE'),\n",
       " (6483, 'ASHBURN'),\n",
       " (4175, 'AUBURN GRESHAM'),\n",
       " (10933, 'AUSTIN'),\n",
       " (1522, 'AVALON PARK'),\n",
       " (3640, 'AVONDALE'),\n",
       " (14386, 'BELMONT CRAGIN'),\n",
       " (1636, 'BEVERLY'),\n",
       " (3167, 'BRIDGEPORT'),\n",
       " (9647, 'BRIGHTON PARK'),\n",
       " (549, 'BURNSIDE'),\n",
       " (1568, 'CALUMET HEIGHTS'),\n",
       " (5042, 'CHATHAM'),\n",
       " (7086, 'CHICAGO LAWN'),\n",
       " (2085, 'CLEARING'),\n",
       " (4670, 'DOUGLAS'),\n",
       " (4568, 'DUNNING'),\n",
       " (5337, 'EAST GARFIELD PARK'),\n",
       " (5305, 'EAST SIDE'),\n",
       " (4600, 'EDGEWATER'),\n",
       " (910, 'EDISON PARK'),\n",
       " (6832, 'ENGLEWOOD'),\n",
       " (1431, 'FOREST GLEN'),\n",
       " (531, 'FULLER PARK'),\n",
       " (9915, 'GAGE PARK'),\n",
       " (4552, 'GARFIELD RIDGE'),\n",
       " (2809, 'GRAND BOULEVARD'),\n",
       " (4051, 'GREATER GRAND CROSSING'),\n",
       " (963, 'HEGEWISCH'),\n",
       " (3975, 'HERMOSA'),\n",
       " (8620, 'HUMBOLDT PARK'),\n",
       " (1930, 'HYDE PARK'),\n",
       " (7764, 'IRVING PARK'),\n",
       " (1755, 'JEFFERSON PARK'),\n",
       " (4287, 'KENWOOD'),\n",
       " (7055, 'LAKE VIEW'),\n",
       " (5615, 'LINCOLN PARK'),\n",
       " (4132, 'LINCOLN SQUARE'),\n",
       " (7351, 'LOGAN SQUARE'),\n",
       " (871, 'LOOP'),\n",
       " (7257, 'LOWER WEST SIDE'),\n",
       " (1552, 'MCKINLEY PARK'),\n",
       " (1317, 'MONTCLARE'),\n",
       " (3271, 'MORGAN PARK'),\n",
       " (2091, 'MOUNT GREENWOOD'),\n",
       " (3362, 'NEAR NORTH SIDE'),\n",
       " (1378, 'NEAR SOUTH SIDE'),\n",
       " (7975, 'NEAR WEST SIDE'),\n",
       " (7922, 'NEW CITY'),\n",
       " (7541, 'NORTH CENTER'),\n",
       " (5146, 'NORTH LAWNDALE'),\n",
       " (4210, 'NORTH PARK'),\n",
       " (6469, 'NORWOOD PARK'),\n",
       " (140, 'OAKLAND'),\n",
       " (786, 'OHARE'),\n",
       " (6954, 'PORTAGE PARK'),\n",
       " (1620, 'PULLMAN'),\n",
       " (1547, 'RIVERDALE'),\n",
       " (4068, 'ROGERS PARK'),\n",
       " (7020, 'ROSELAND'),\n",
       " (4043, 'SOUTH CHICAGO'),\n",
       " (1859, 'SOUTH DEERING'),\n",
       " (14793, 'SOUTH LAWNDALE'),\n",
       " (4543, 'SOUTH SHORE'),\n",
       " (4388, 'UPTOWN'),\n",
       " (4006, 'WASHINGTON HEIGHTS'),\n",
       " (2648, 'WASHINGTON PARK'),\n",
       " (3700, 'WEST ELSDON'),\n",
       " (5946, 'WEST ENGLEWOOD'),\n",
       " (2622, 'WEST GARFIELD PARK'),\n",
       " (4207, 'WEST LAWN'),\n",
       " (3240, 'WEST PULLMAN'),\n",
       " (8197, 'WEST RIDGE'),\n",
       " (9429, 'WEST TOWN'),\n",
       " (4206, 'WOODLAWN')]"
      ]
     },
     "execution_count": 34,
     "metadata": {},
     "output_type": "execute_result"
    }
   ],
   "source": [
    "%sql select SUM(college_enrollment) AS total_college_enrollment, community_area_name from SCHOOLS \\\n",
    "    GROUP BY community_area_name"
   ]
  },
  {
   "cell_type": "markdown",
   "metadata": {},
   "source": [
    "<details><summary>Click here for the hint</summary>\n",
    "\n",
    "```python\n",
    "Verify the exact name of the Enrollment column in the database\n",
    "Use the SUM() function to add up the Enrollments for each Community Area\n",
    "\n",
    "Don't forget to group by the Community Area\n",
    "\n",
    "```\n",
    "\n",
    "</details>\n"
   ]
  },
  {
   "cell_type": "markdown",
   "metadata": {},
   "source": [
    "<details><summary>Click here for the solution</summary>\n",
    "\n",
    "```python\n",
    "%sql select Community_Area_Name, sum(College_Enrollment) AS TOTAL_ENROLLMENT \\\n",
    "   from SCHOOLS \\\n",
    "   group by Community_Area_Name \n",
    "\n",
    "```\n",
    "\n",
    "</details>\n"
   ]
  },
  {
   "cell_type": "markdown",
   "metadata": {},
   "source": [
    "### Problem 9\n",
    "\n",
    "##### Get the 5 Community Areas with the least total College Enrollment  sorted in ascending order\n"
   ]
  },
  {
   "cell_type": "code",
   "execution_count": 38,
   "metadata": {},
   "outputs": [
    {
     "name": "stdout",
     "output_type": "stream",
     "text": [
      " * ibm_db_sa://lsg70000:***@dashdb-txn-sbox-yp-lon02-04.services.eu-gb.bluemix.net:50000/BLUDB\n",
      "Done.\n"
     ]
    },
    {
     "data": {
      "text/html": [
       "<table>\n",
       "    <thead>\n",
       "        <tr>\n",
       "            <th>total_college_enrollment</th>\n",
       "            <th>community_area_name</th>\n",
       "        </tr>\n",
       "    </thead>\n",
       "    <tbody>\n",
       "        <tr>\n",
       "            <td>140</td>\n",
       "            <td>OAKLAND</td>\n",
       "        </tr>\n",
       "        <tr>\n",
       "            <td>531</td>\n",
       "            <td>FULLER PARK</td>\n",
       "        </tr>\n",
       "        <tr>\n",
       "            <td>549</td>\n",
       "            <td>BURNSIDE</td>\n",
       "        </tr>\n",
       "        <tr>\n",
       "            <td>786</td>\n",
       "            <td>OHARE</td>\n",
       "        </tr>\n",
       "        <tr>\n",
       "            <td>871</td>\n",
       "            <td>LOOP</td>\n",
       "        </tr>\n",
       "    </tbody>\n",
       "</table>"
      ],
      "text/plain": [
       "[(140, 'OAKLAND'),\n",
       " (531, 'FULLER PARK'),\n",
       " (549, 'BURNSIDE'),\n",
       " (786, 'OHARE'),\n",
       " (871, 'LOOP')]"
      ]
     },
     "execution_count": 38,
     "metadata": {},
     "output_type": "execute_result"
    }
   ],
   "source": [
    "%sql select SUM(college_enrollment) AS total_college_enrollment, community_area_name from SCHOOLS \\\n",
    "    GROUP BY community_area_name ORDER BY total_college_enrollment LIMIT 5"
   ]
  },
  {
   "cell_type": "markdown",
   "metadata": {},
   "source": [
    "<details><summary>Click here for the solution</summary>\n",
    "\n",
    "```python\n",
    "# Order the previous query and limit the number of rows you fetch\n",
    "\n",
    "%sql select Community_Area_Name, sum(College_Enrollment) AS TOTAL_ENROLLMENT \\\n",
    "   from SCHOOLS \\\n",
    "   group by Community_Area_Name \\\n",
    "   order by TOTAL_ENROLLMENT asc \\\n",
    "   fetch first 5 rows only\n",
    "\n",
    "```\n",
    "\n",
    "</details>\n"
   ]
  },
  {
   "cell_type": "markdown",
   "metadata": {},
   "source": [
    "### Problem 10\n",
    "\n",
    "##### Get the hardship index for the community area which has College Enrollment of 4368\n"
   ]
  },
  {
   "cell_type": "code",
   "execution_count": 44,
   "metadata": {},
   "outputs": [
    {
     "name": "stdout",
     "output_type": "stream",
     "text": [
      "community_area_number\n",
      "community_area_name\n"
     ]
    }
   ],
   "source": [
    "for col in df.columns.values:\n",
    "    if \"comm\" in col.lower():\n",
    "        print(col)"
   ]
  },
  {
   "cell_type": "code",
   "execution_count": 45,
   "metadata": {},
   "outputs": [
    {
     "name": "stdout",
     "output_type": "stream",
     "text": [
      " * ibm_db_sa://lsg70000:***@dashdb-txn-sbox-yp-lon02-04.services.eu-gb.bluemix.net:50000/BLUDB\n",
      "Done.\n"
     ]
    },
    {
     "data": {
      "text/html": [
       "<table>\n",
       "    <thead>\n",
       "        <tr>\n",
       "            <th>hardship_index</th>\n",
       "        </tr>\n",
       "    </thead>\n",
       "    <tbody>\n",
       "        <tr>\n",
       "            <td>6.0</td>\n",
       "        </tr>\n",
       "    </tbody>\n",
       "</table>"
      ],
      "text/plain": [
       "[(6.0,)]"
      ]
     },
     "execution_count": 45,
     "metadata": {},
     "output_type": "execute_result"
    }
   ],
   "source": [
    "%%sql \n",
    "select hardship_index \n",
    "   from chicago_socioeconomic_data CD, schools CPS \n",
    "   where CD.ca = CPS.community_area_number \n",
    "      and college_enrollment = 4368"
   ]
  },
  {
   "cell_type": "markdown",
   "metadata": {},
   "source": [
    "<details><summary>Click here for the solution</summary>\n",
    "\n",
    "```python\n",
    "# For this solution to work the CHICAGO_SOCIOECONOMIC_DATA table as created in the last lab of Week 3 should already exist\n",
    "\n",
    "%%sql \n",
    "select hardship_index \n",
    "   from chicago_socioeconomic_data CD, schools CPS \n",
    "   where CD.ca = CPS.community_area_number \n",
    "      and college_enrollment = 4368\n",
    "\n",
    "```\n",
    "\n",
    "</details>\n"
   ]
  },
  {
   "cell_type": "markdown",
   "metadata": {},
   "source": [
    "### Problem 11\n",
    "\n",
    "##### Get the hardship index for the community area which has the highest value for College Enrollment\n"
   ]
  },
  {
   "cell_type": "code",
   "execution_count": 51,
   "metadata": {},
   "outputs": [
    {
     "name": "stdout",
     "output_type": "stream",
     "text": [
      " * ibm_db_sa://lsg70000:***@dashdb-txn-sbox-yp-lon02-04.services.eu-gb.bluemix.net:50000/BLUDB\n",
      "Done.\n"
     ]
    },
    {
     "data": {
      "text/html": [
       "<table>\n",
       "    <thead>\n",
       "        <tr>\n",
       "            <th>ca</th>\n",
       "            <th>community_area_name</th>\n",
       "            <th>hardship_index</th>\n",
       "        </tr>\n",
       "    </thead>\n",
       "    <tbody>\n",
       "        <tr>\n",
       "            <td>5.0</td>\n",
       "            <td>NORTH CENTER</td>\n",
       "            <td>6.0</td>\n",
       "        </tr>\n",
       "    </tbody>\n",
       "</table>"
      ],
      "text/plain": [
       "[(5.0, 'NORTH CENTER', 6.0)]"
      ]
     },
     "execution_count": 51,
     "metadata": {},
     "output_type": "execute_result"
    }
   ],
   "source": [
    "%%sql \n",
    "select CD.ca, CPS.community_area_name, CD.hardship_index \n",
    "   from chicago_socioeconomic_data CD, schools CPS \n",
    "   where CD.ca = CPS.community_area_number \n",
    "      and college_enrollment = (select MAX(college_enrollment) from schools)"
   ]
  },
  {
   "cell_type": "code",
   "execution_count": 49,
   "metadata": {},
   "outputs": [
    {
     "name": "stdout",
     "output_type": "stream",
     "text": [
      " * ibm_db_sa://lsg70000:***@dashdb-txn-sbox-yp-lon02-04.services.eu-gb.bluemix.net:50000/BLUDB\n",
      "Done.\n"
     ]
    },
    {
     "data": {
      "text/html": [
       "<table>\n",
       "    <thead>\n",
       "        <tr>\n",
       "            <th>ca</th>\n",
       "            <th>community_area_name</th>\n",
       "            <th>hardship_index</th>\n",
       "        </tr>\n",
       "    </thead>\n",
       "    <tbody>\n",
       "        <tr>\n",
       "            <td>5.0</td>\n",
       "            <td>North Center</td>\n",
       "            <td>6.0</td>\n",
       "        </tr>\n",
       "    </tbody>\n",
       "</table>"
      ],
      "text/plain": [
       "[(5.0, 'North Center', 6.0)]"
      ]
     },
     "execution_count": 49,
     "metadata": {},
     "output_type": "execute_result"
    }
   ],
   "source": [
    "%sql select ca, community_area_name, hardship_index from chicago_socioeconomic_data \\\n",
    "   where ca in \\\n",
    "   ( select community_area_number from schools order by college_enrollment desc limit 1 )"
   ]
  },
  {
   "cell_type": "markdown",
   "metadata": {},
   "source": [
    "<details><summary>Click here for the solution</summary>\n",
    "\n",
    "```python\n",
    "# For this solution to work the CHICAGO_SOCIOECONOMIC_DATA table as created in the last lab of Week 3 should already exist\n",
    "\n",
    "%sql select ca, community_area_name, hardship_index from chicago_socioeconomic_data \\\n",
    "   where ca in \\\n",
    "   ( select community_area_number from schools order by college_enrollment desc limit 1 )\n",
    "\n",
    "\n",
    "```\n",
    "\n",
    "</details>\n"
   ]
  },
  {
   "cell_type": "markdown",
   "metadata": {},
   "source": [
    "## Summary\n",
    "\n",
    "##### In this lab you learned how to work with a real word dataset using SQL and Python. You learned how to query columns with spaces or special characters in their names and with mixed case names. You also used built in database functions and practiced how to sort, limit, and order result sets, as well as used sub-queries and worked with multiple tables.\n"
   ]
  },
  {
   "cell_type": "markdown",
   "metadata": {},
   "source": [
    "## Author\n",
    "\n",
    "<a href=\"https://www.linkedin.com/in/ravahuja/\" target=\"_blank\">Rav Ahuja</a>\n",
    "\n",
    "## Change Log\n",
    "\n",
    "| Date (YYYY-MM-DD) | Version | Changed By | Change Description                 |\n",
    "| ----------------- | ------- | ---------- | ---------------------------------- |\n",
    "| 2020-08-28        | 2.0     | Lavanya    | Moved lab to course repo in GitLab |\n",
    "\n",
    "<hr>\n",
    "\n",
    "## <h3 align=\"center\"> © IBM Corporation 2020. All rights reserved. <h3/>\n"
   ]
  }
 ],
 "metadata": {
  "kernelspec": {
   "display_name": "DS",
   "language": "python",
   "name": "ds"
  },
  "language_info": {
   "codemirror_mode": {
    "name": "ipython",
    "version": 3
   },
   "file_extension": ".py",
   "mimetype": "text/x-python",
   "name": "python",
   "nbconvert_exporter": "python",
   "pygments_lexer": "ipython3",
   "version": "3.8.5"
  },
  "widgets": {
   "state": {},
   "version": "1.1.2"
  }
 },
 "nbformat": 4,
 "nbformat_minor": 4
}
