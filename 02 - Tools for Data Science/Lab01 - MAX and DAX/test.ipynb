{
 "metadata": {
  "language_info": {
   "codemirror_mode": {
    "name": "ipython",
    "version": 3
   },
   "file_extension": ".py",
   "mimetype": "text/x-python",
   "name": "python",
   "nbconvert_exporter": "python",
   "pygments_lexer": "ipython3",
   "version": "3.8.5-final"
  },
  "orig_nbformat": 2,
  "kernelspec": {
   "name": "mgt_2001",
   "display_name": "MGT_2001",
   "language": "python"
  }
 },
 "nbformat": 4,
 "nbformat_minor": 2,
 "cells": [
  {
   "cell_type": "code",
   "execution_count": 3,
   "metadata": {},
   "outputs": [
    {
     "output_type": "execute_result",
     "data": {
      "text/plain": [
       "'0.2.1'"
      ]
     },
     "metadata": {},
     "execution_count": 3
    }
   ],
   "source": [
    "# import required packages, though not all of them are actually used\n",
    "from matplotlib import pyplot as plt\n",
    "import matplotlib.cm as cm\n",
    "import matplotlib.gridspec as gridspec\n",
    "from matplotlib.ticker import MaxNLocator\n",
    "import matplotlib.mlab as mlab\n",
    "%matplotlib inline\n",
    "\n",
    "# set fig size; bigger DPI results in bigger fig\n",
    "plt.rcParams[\"figure.dpi\"] = 100\n",
    "\n",
    "import seaborn as sns\n",
    "import pandas as pd\n",
    "import numpy as np\n",
    "import math\n",
    "import scipy.stats as stats\n",
    "from scipy.stats import norm\n",
    "import statsmodels.api as sm\n",
    "import statsmodels.stats.api as sms\n",
    "import statsmodels.formula.api as smf\n",
    "import plotly.express as px\n",
    "\n",
    "import stemgraphic as stem\n",
    "\n",
    "from ete3 import Tree, faces, AttrFace, TreeStyle, TextFace\n",
    "\n",
    "from mgt2001 import *\n",
    "import mgt2001\n",
    "\n",
    "import random\n",
    "import itertools\n",
    "import math\n",
    "\n",
    "plt.style.use('ggplot') # refined style\n",
    "\n",
    "mgt2001.__version__ # show version of mgt2001"
   ]
  },
  {
   "cell_type": "code",
   "execution_count": 2,
   "metadata": {},
   "outputs": [
    {
     "output_type": "execute_result",
     "data": {
      "text/plain": [
       "                  DATE  HOURLYVISIBILITY  HOURLYDRYBULBTEMPF  \\\n",
       "0  2010-01-01 01:00:00               6.0                33.0   \n",
       "1  2010-01-01 02:00:00               6.0                33.0   \n",
       "2  2010-01-01 03:00:00               5.0                33.0   \n",
       "3  2010-01-01 04:00:00               5.0                33.0   \n",
       "4  2010-01-01 05:00:00               5.0                33.0   \n",
       "\n",
       "   HOURLYWETBULBTEMPF  HOURLYDewPointTempF  HOURLYRelativeHumidity  \\\n",
       "0                32.0                 31.0                    92.0   \n",
       "1                33.0                 32.0                    96.0   \n",
       "2                33.0                 32.0                    96.0   \n",
       "3                33.0                 32.0                    96.0   \n",
       "4                32.0                 31.0                    92.0   \n",
       "\n",
       "   HOURLYWindSpeed  HOURLYStationPressure  HOURLYSeaLevelPressure  \\\n",
       "0              0.0                  29.97                   29.99   \n",
       "1              0.0                  29.97                   29.99   \n",
       "2              0.0                  29.97                   29.99   \n",
       "3              0.0                  29.95                   29.97   \n",
       "4              0.0                  29.93                   29.96   \n",
       "\n",
       "   HOURLYPrecip  HOURLYAltimeterSetting  HOURLYWindDirectionSin  \\\n",
       "0          0.01                   29.99                     0.0   \n",
       "1          0.02                   29.99                     0.0   \n",
       "2          0.00                   29.99                     0.0   \n",
       "3          0.00                   29.97                     0.0   \n",
       "4          0.00                   29.95                     0.0   \n",
       "\n",
       "   HOURLYWindDirectionCos  HOURLYPressureTendencyIncr  \\\n",
       "0                     1.0                           0   \n",
       "1                     1.0                           0   \n",
       "2                     1.0                           0   \n",
       "3                     1.0                           0   \n",
       "4                     1.0                           0   \n",
       "\n",
       "   HOURLYPressureTendencyDecr  HOURLYPressureTendencyCons  \n",
       "0                           1                           0  \n",
       "1                           1                           0  \n",
       "2                           1                           0  \n",
       "3                           1                           0  \n",
       "4                           1                           0  "
      ],
      "text/html": "<div>\n<style scoped>\n    .dataframe tbody tr th:only-of-type {\n        vertical-align: middle;\n    }\n\n    .dataframe tbody tr th {\n        vertical-align: top;\n    }\n\n    .dataframe thead th {\n        text-align: right;\n    }\n</style>\n<table border=\"1\" class=\"dataframe\">\n  <thead>\n    <tr style=\"text-align: right;\">\n      <th></th>\n      <th>DATE</th>\n      <th>HOURLYVISIBILITY</th>\n      <th>HOURLYDRYBULBTEMPF</th>\n      <th>HOURLYWETBULBTEMPF</th>\n      <th>HOURLYDewPointTempF</th>\n      <th>HOURLYRelativeHumidity</th>\n      <th>HOURLYWindSpeed</th>\n      <th>HOURLYStationPressure</th>\n      <th>HOURLYSeaLevelPressure</th>\n      <th>HOURLYPrecip</th>\n      <th>HOURLYAltimeterSetting</th>\n      <th>HOURLYWindDirectionSin</th>\n      <th>HOURLYWindDirectionCos</th>\n      <th>HOURLYPressureTendencyIncr</th>\n      <th>HOURLYPressureTendencyDecr</th>\n      <th>HOURLYPressureTendencyCons</th>\n    </tr>\n  </thead>\n  <tbody>\n    <tr>\n      <th>0</th>\n      <td>2010-01-01 01:00:00</td>\n      <td>6.0</td>\n      <td>33.0</td>\n      <td>32.0</td>\n      <td>31.0</td>\n      <td>92.0</td>\n      <td>0.0</td>\n      <td>29.97</td>\n      <td>29.99</td>\n      <td>0.01</td>\n      <td>29.99</td>\n      <td>0.0</td>\n      <td>1.0</td>\n      <td>0</td>\n      <td>1</td>\n      <td>0</td>\n    </tr>\n    <tr>\n      <th>1</th>\n      <td>2010-01-01 02:00:00</td>\n      <td>6.0</td>\n      <td>33.0</td>\n      <td>33.0</td>\n      <td>32.0</td>\n      <td>96.0</td>\n      <td>0.0</td>\n      <td>29.97</td>\n      <td>29.99</td>\n      <td>0.02</td>\n      <td>29.99</td>\n      <td>0.0</td>\n      <td>1.0</td>\n      <td>0</td>\n      <td>1</td>\n      <td>0</td>\n    </tr>\n    <tr>\n      <th>2</th>\n      <td>2010-01-01 03:00:00</td>\n      <td>5.0</td>\n      <td>33.0</td>\n      <td>33.0</td>\n      <td>32.0</td>\n      <td>96.0</td>\n      <td>0.0</td>\n      <td>29.97</td>\n      <td>29.99</td>\n      <td>0.00</td>\n      <td>29.99</td>\n      <td>0.0</td>\n      <td>1.0</td>\n      <td>0</td>\n      <td>1</td>\n      <td>0</td>\n    </tr>\n    <tr>\n      <th>3</th>\n      <td>2010-01-01 04:00:00</td>\n      <td>5.0</td>\n      <td>33.0</td>\n      <td>33.0</td>\n      <td>32.0</td>\n      <td>96.0</td>\n      <td>0.0</td>\n      <td>29.95</td>\n      <td>29.97</td>\n      <td>0.00</td>\n      <td>29.97</td>\n      <td>0.0</td>\n      <td>1.0</td>\n      <td>0</td>\n      <td>1</td>\n      <td>0</td>\n    </tr>\n    <tr>\n      <th>4</th>\n      <td>2010-01-01 05:00:00</td>\n      <td>5.0</td>\n      <td>33.0</td>\n      <td>32.0</td>\n      <td>31.0</td>\n      <td>92.0</td>\n      <td>0.0</td>\n      <td>29.93</td>\n      <td>29.96</td>\n      <td>0.00</td>\n      <td>29.95</td>\n      <td>0.0</td>\n      <td>1.0</td>\n      <td>0</td>\n      <td>1</td>\n      <td>0</td>\n    </tr>\n  </tbody>\n</table>\n</div>"
     },
     "metadata": {},
     "execution_count": 2
    }
   ],
   "source": [
    "df = pd.read_csv('noaa-weather-data-jfk-airport/jfk_weather_cleaned.csv')\n",
    "df.head()"
   ]
  },
  {
   "cell_type": "code",
   "execution_count": null,
   "metadata": {},
   "outputs": [],
   "source": []
  }
 ]
}